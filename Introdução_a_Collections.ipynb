{
  "nbformat": 4,
  "nbformat_minor": 0,
  "metadata": {
    "colab": {
      "provenance": [],
      "collapsed_sections": [
        "aSvjHOqrsrut",
        "nSLRH36CABiH",
        "HVIA-SzKRfEk",
        "S7w4y8pLsBOe"
      ]
    },
    "kernelspec": {
      "name": "python3",
      "display_name": "Python 3"
    }
  },
  "cells": [
    {
      "cell_type": "markdown",
      "source": [
        "# Listas e operação"
      ],
      "metadata": {
        "id": "aSvjHOqrsrut"
      }
    },
    {
      "metadata": {
        "id": "i92eaEWHL_tu",
        "outputId": "c0d491e1-232d-4ebd-c8f8-ae749cc425ae",
        "colab": {
          "base_uri": "https://localhost:8080/",
          "height": 85
        }
      },
      "cell_type": "code",
      "source": [
        "idade1 = 39\n",
        "idade2 = 30\n",
        "idade3 = 27\n",
        "idade4 = 18\n",
        "\n",
        "print(idade1)\n",
        "print(idade2)\n",
        "print(idade3)\n",
        "print(idade4)"
      ],
      "execution_count": null,
      "outputs": [
        {
          "output_type": "stream",
          "text": [
            "39\n",
            "30\n",
            "27\n",
            "18\n"
          ],
          "name": "stdout"
        }
      ]
    },
    {
      "metadata": {
        "id": "27g6sNsIMZEL"
      },
      "cell_type": "code",
      "source": [
        "idades = [39, 30, 27, 18]"
      ],
      "execution_count": null,
      "outputs": []
    },
    {
      "metadata": {
        "id": "nMoUaGF8MmuM",
        "outputId": "173b7453-3eed-48f3-e93f-2e15911eba3f",
        "colab": {
          "base_uri": "https://localhost:8080/",
          "height": 34
        }
      },
      "cell_type": "code",
      "source": [
        "type(idades)"
      ],
      "execution_count": null,
      "outputs": [
        {
          "output_type": "execute_result",
          "data": {
            "text/plain": [
              "list"
            ]
          },
          "metadata": {
            "tags": []
          },
          "execution_count": 3
        }
      ]
    },
    {
      "metadata": {
        "id": "693125bLMoQo",
        "outputId": "1ef39f03-fef6-453d-e569-14a8a4c63f59",
        "colab": {
          "base_uri": "https://localhost:8080/",
          "height": 34
        }
      },
      "cell_type": "code",
      "source": [
        "len(idades)"
      ],
      "execution_count": null,
      "outputs": [
        {
          "output_type": "execute_result",
          "data": {
            "text/plain": [
              "4"
            ]
          },
          "metadata": {
            "tags": []
          },
          "execution_count": 4
        }
      ]
    },
    {
      "metadata": {
        "id": "HhRSkKaNM70v",
        "outputId": "40450643-dc8e-46cf-d8d5-3db65e04fc92",
        "colab": {
          "base_uri": "https://localhost:8080/",
          "height": 34
        }
      },
      "cell_type": "code",
      "source": [
        "idades[0]"
      ],
      "execution_count": null,
      "outputs": [
        {
          "output_type": "execute_result",
          "data": {
            "text/plain": [
              "39"
            ]
          },
          "metadata": {
            "tags": []
          },
          "execution_count": 5
        }
      ]
    },
    {
      "metadata": {
        "id": "7Wra5jZLM_6e",
        "outputId": "af711792-7ea1-4d77-b86c-451468c5ac34",
        "colab": {
          "base_uri": "https://localhost:8080/",
          "height": 34
        }
      },
      "cell_type": "code",
      "source": [
        "idades"
      ],
      "execution_count": null,
      "outputs": [
        {
          "output_type": "execute_result",
          "data": {
            "text/plain": [
              "[39, 30, 27, 18]"
            ]
          },
          "metadata": {
            "tags": []
          },
          "execution_count": 6
        }
      ]
    },
    {
      "metadata": {
        "id": "NXyDZcsZNBJm",
        "outputId": "23ded952-0d37-4757-fd65-874fc313d2e8",
        "colab": {
          "base_uri": "https://localhost:8080/",
          "height": 68
        }
      },
      "cell_type": "code",
      "source": [
        "print(idades[1])\n",
        "print(idades[2])\n",
        "print(idades[3])"
      ],
      "execution_count": null,
      "outputs": [
        {
          "output_type": "stream",
          "text": [
            "30\n",
            "27\n",
            "18\n"
          ],
          "name": "stdout"
        }
      ]
    },
    {
      "metadata": {
        "id": "60CS-6vnNEzX"
      },
      "cell_type": "code",
      "source": [
        "idades.append(15)"
      ],
      "execution_count": null,
      "outputs": []
    },
    {
      "metadata": {
        "id": "LgNGaf7FNSr-",
        "outputId": "ab98ddb0-4771-4fa1-83c3-8fec761f63f2",
        "colab": {
          "base_uri": "https://localhost:8080/",
          "height": 34
        }
      },
      "cell_type": "code",
      "source": [
        "idades"
      ],
      "execution_count": null,
      "outputs": [
        {
          "output_type": "execute_result",
          "data": {
            "text/plain": [
              "[39, 30, 27, 18, 15]"
            ]
          },
          "metadata": {
            "tags": []
          },
          "execution_count": 9
        }
      ]
    },
    {
      "metadata": {
        "id": "PqFCqcOvNT7h",
        "outputId": "c90b09b5-788e-4d6b-8608-aa28e3fa7b12",
        "colab": {
          "base_uri": "https://localhost:8080/",
          "height": 34
        }
      },
      "cell_type": "code",
      "source": [
        "idades[4]"
      ],
      "execution_count": null,
      "outputs": [
        {
          "output_type": "execute_result",
          "data": {
            "text/plain": [
              "15"
            ]
          },
          "metadata": {
            "tags": []
          },
          "execution_count": 10
        }
      ]
    },
    {
      "metadata": {
        "id": "aCzxDZ0CNVti",
        "outputId": "68318b7c-5a0e-4e70-e2f8-7f6e7fc836f2",
        "colab": {
          "base_uri": "https://localhost:8080/",
          "height": 162
        }
      },
      "cell_type": "code",
      "source": [
        "idades[5]"
      ],
      "execution_count": null,
      "outputs": [
        {
          "output_type": "error",
          "ename": "IndexError",
          "evalue": "ignored",
          "traceback": [
            "\u001b[0;31m---------------------------------------------------------------------------\u001b[0m",
            "\u001b[0;31mIndexError\u001b[0m                                Traceback (most recent call last)",
            "\u001b[0;32m<ipython-input-11-9afc071113c0>\u001b[0m in \u001b[0;36m<module>\u001b[0;34m()\u001b[0m\n\u001b[0;32m----> 1\u001b[0;31m \u001b[0midades\u001b[0m\u001b[0;34m[\u001b[0m\u001b[0;36m5\u001b[0m\u001b[0;34m]\u001b[0m\u001b[0;34m\u001b[0m\u001b[0;34m\u001b[0m\u001b[0m\n\u001b[0m",
            "\u001b[0;31mIndexError\u001b[0m: list index out of range"
          ]
        }
      ]
    },
    {
      "metadata": {
        "id": "AXKjngwvNXLM",
        "outputId": "9dbce7fe-c444-4953-b2ff-146aae1a6c76",
        "colab": {
          "base_uri": "https://localhost:8080/",
          "height": 102
        }
      },
      "cell_type": "code",
      "source": [
        "for idade in idades:\n",
        "  print(idade)"
      ],
      "execution_count": null,
      "outputs": [
        {
          "output_type": "stream",
          "text": [
            "39\n",
            "30\n",
            "27\n",
            "18\n",
            "15\n"
          ],
          "name": "stdout"
        }
      ]
    },
    {
      "metadata": {
        "id": "e086OjeaNmWj"
      },
      "cell_type": "code",
      "source": [
        "idades.remove(30)"
      ],
      "execution_count": null,
      "outputs": []
    },
    {
      "metadata": {
        "id": "5A6pLLh4No8s",
        "outputId": "da5bf327-6e03-4165-cc1e-5a92ad3397c1",
        "colab": {
          "base_uri": "https://localhost:8080/",
          "height": 34
        }
      },
      "cell_type": "code",
      "source": [
        "idades"
      ],
      "execution_count": null,
      "outputs": [
        {
          "output_type": "execute_result",
          "data": {
            "text/plain": [
              "[39, 27, 18, 15]"
            ]
          },
          "metadata": {
            "tags": []
          },
          "execution_count": 14
        }
      ]
    },
    {
      "metadata": {
        "id": "ojsePmRwNpy2",
        "outputId": "c4fd2036-f735-427a-b629-3d5e916fa81d",
        "colab": {
          "base_uri": "https://localhost:8080/",
          "height": 162
        }
      },
      "cell_type": "code",
      "source": [
        "idades.remove(30)"
      ],
      "execution_count": null,
      "outputs": [
        {
          "output_type": "error",
          "ename": "ValueError",
          "evalue": "ignored",
          "traceback": [
            "\u001b[0;31m---------------------------------------------------------------------------\u001b[0m",
            "\u001b[0;31mValueError\u001b[0m                                Traceback (most recent call last)",
            "\u001b[0;32m<ipython-input-15-4f77f6ee3785>\u001b[0m in \u001b[0;36m<module>\u001b[0;34m()\u001b[0m\n\u001b[0;32m----> 1\u001b[0;31m \u001b[0midades\u001b[0m\u001b[0;34m.\u001b[0m\u001b[0mremove\u001b[0m\u001b[0;34m(\u001b[0m\u001b[0;36m30\u001b[0m\u001b[0;34m)\u001b[0m\u001b[0;34m\u001b[0m\u001b[0;34m\u001b[0m\u001b[0m\n\u001b[0m",
            "\u001b[0;31mValueError\u001b[0m: list.remove(x): x not in list"
          ]
        }
      ]
    },
    {
      "metadata": {
        "id": "kkdK3t6nNsXW"
      },
      "cell_type": "code",
      "source": [
        "idades.append(15)"
      ],
      "execution_count": null,
      "outputs": []
    },
    {
      "metadata": {
        "id": "caaWvENvNv8N",
        "outputId": "31438d95-b7cd-4ef8-8ab2-f743d430ab30",
        "colab": {
          "base_uri": "https://localhost:8080/",
          "height": 34
        }
      },
      "cell_type": "code",
      "source": [
        "idades"
      ],
      "execution_count": null,
      "outputs": [
        {
          "output_type": "execute_result",
          "data": {
            "text/plain": [
              "[39, 27, 18, 15, 15]"
            ]
          },
          "metadata": {
            "tags": []
          },
          "execution_count": 17
        }
      ]
    },
    {
      "metadata": {
        "id": "IZC0ENA1Nwso"
      },
      "cell_type": "code",
      "source": [
        "idades.remove(15)"
      ],
      "execution_count": null,
      "outputs": []
    },
    {
      "metadata": {
        "id": "80fchrRGNx4A",
        "outputId": "f258feb2-c547-47eb-c18a-ae622c45320c",
        "colab": {
          "base_uri": "https://localhost:8080/",
          "height": 34
        }
      },
      "cell_type": "code",
      "source": [
        "idades"
      ],
      "execution_count": null,
      "outputs": [
        {
          "output_type": "execute_result",
          "data": {
            "text/plain": [
              "[39, 27, 18, 15]"
            ]
          },
          "metadata": {
            "tags": []
          },
          "execution_count": 19
        }
      ]
    },
    {
      "metadata": {
        "id": "yNWCUQupNycy",
        "outputId": "8ab8ebba-64a5-4e8d-c5b3-646d5d189d4d",
        "colab": {
          "base_uri": "https://localhost:8080/",
          "height": 34
        }
      },
      "cell_type": "code",
      "source": [
        "idades.append(27)\n",
        "idades.remove(27)\n",
        "idades"
      ],
      "execution_count": null,
      "outputs": [
        {
          "output_type": "execute_result",
          "data": {
            "text/plain": [
              "[39, 18, 15, 27]"
            ]
          },
          "metadata": {
            "tags": []
          },
          "execution_count": 20
        }
      ]
    },
    {
      "metadata": {
        "id": "Kot_FAOkN3g3",
        "outputId": "3882fb84-0ee9-4a8c-a941-dbd99df12e21",
        "colab": {
          "base_uri": "https://localhost:8080/",
          "height": 34
        }
      },
      "cell_type": "code",
      "source": [
        "28 in idades"
      ],
      "execution_count": null,
      "outputs": [
        {
          "output_type": "execute_result",
          "data": {
            "text/plain": [
              "False"
            ]
          },
          "metadata": {
            "tags": []
          },
          "execution_count": 21
        }
      ]
    },
    {
      "metadata": {
        "id": "DMmSks6eOmaX",
        "outputId": "9c95865e-6478-4171-baf3-fba15ea9f368",
        "colab": {
          "base_uri": "https://localhost:8080/",
          "height": 34
        }
      },
      "cell_type": "code",
      "source": [
        "15 in idades"
      ],
      "execution_count": null,
      "outputs": [
        {
          "output_type": "execute_result",
          "data": {
            "text/plain": [
              "True"
            ]
          },
          "metadata": {
            "tags": []
          },
          "execution_count": 22
        }
      ]
    },
    {
      "metadata": {
        "id": "N01sbE4xOoAF"
      },
      "cell_type": "code",
      "source": [
        "if 15 in idades:\n",
        "  idades.remove(15)"
      ],
      "execution_count": null,
      "outputs": []
    },
    {
      "metadata": {
        "id": "U4Ozd7ZxOukR",
        "outputId": "e5f2a778-79b3-465a-c35b-52165b801d4a",
        "colab": {
          "base_uri": "https://localhost:8080/",
          "height": 34
        }
      },
      "cell_type": "code",
      "source": [
        "idades"
      ],
      "execution_count": null,
      "outputs": [
        {
          "output_type": "execute_result",
          "data": {
            "text/plain": [
              "[39, 18, 27]"
            ]
          },
          "metadata": {
            "tags": []
          },
          "execution_count": 24
        }
      ]
    },
    {
      "metadata": {
        "id": "SMgSWfVsOvrr"
      },
      "cell_type": "code",
      "source": [
        "if 28 in idades:\n",
        "  idades.remove(28)"
      ],
      "execution_count": null,
      "outputs": []
    },
    {
      "metadata": {
        "id": "feOCw2UEOzaf",
        "outputId": "3dd5c2c3-5900-44a2-f03e-3b10533ebe72",
        "colab": {
          "base_uri": "https://localhost:8080/",
          "height": 34
        }
      },
      "cell_type": "code",
      "source": [
        "idades"
      ],
      "execution_count": null,
      "outputs": [
        {
          "output_type": "execute_result",
          "data": {
            "text/plain": [
              "[39, 18, 27]"
            ]
          },
          "metadata": {
            "tags": []
          },
          "execution_count": 26
        }
      ]
    },
    {
      "metadata": {
        "id": "v9GOmJkDO0QH",
        "outputId": "f1c52320-0c6d-4040-d6aa-e25e9dded507",
        "colab": {
          "base_uri": "https://localhost:8080/",
          "height": 34
        }
      },
      "cell_type": "code",
      "source": [
        "idades.append(19)\n",
        "idades"
      ],
      "execution_count": null,
      "outputs": [
        {
          "output_type": "execute_result",
          "data": {
            "text/plain": [
              "[39, 18, 27, 19]"
            ]
          },
          "metadata": {
            "tags": []
          },
          "execution_count": 27
        }
      ]
    },
    {
      "metadata": {
        "id": "EXZzTRCWO6LU",
        "outputId": "7fdd03d9-11e1-4959-ad13-1cd9c893e708",
        "colab": {
          "base_uri": "https://localhost:8080/",
          "height": 34
        }
      },
      "cell_type": "code",
      "source": [
        "idades.insert(0, 20)\n",
        "idades"
      ],
      "execution_count": null,
      "outputs": [
        {
          "output_type": "execute_result",
          "data": {
            "text/plain": [
              "[20, 39, 18, 27, 19]"
            ]
          },
          "metadata": {
            "tags": []
          },
          "execution_count": 28
        }
      ]
    },
    {
      "metadata": {
        "id": "yQ6QIHbVPDJm",
        "outputId": "ed2ee9e6-89be-43ce-84b6-d670f89072e9",
        "colab": {
          "base_uri": "https://localhost:8080/",
          "height": 34
        }
      },
      "cell_type": "code",
      "source": [
        "idades = [20, 39, 18]\n",
        "idades"
      ],
      "execution_count": null,
      "outputs": [
        {
          "output_type": "execute_result",
          "data": {
            "text/plain": [
              "[20, 39, 18]"
            ]
          },
          "metadata": {
            "tags": []
          },
          "execution_count": 29
        }
      ]
    },
    {
      "metadata": {
        "id": "1x5IZ3LxPKFw"
      },
      "cell_type": "code",
      "source": [
        "idades.append([27, 19])"
      ],
      "execution_count": null,
      "outputs": []
    },
    {
      "metadata": {
        "id": "pbjqVYWcPNfa",
        "outputId": "12daf065-e911-4856-9e79-7bd126650158",
        "colab": {
          "base_uri": "https://localhost:8080/",
          "height": 34
        }
      },
      "cell_type": "code",
      "source": [
        "idades"
      ],
      "execution_count": null,
      "outputs": [
        {
          "output_type": "execute_result",
          "data": {
            "text/plain": [
              "[20, 39, 18, [27, 19]]"
            ]
          },
          "metadata": {
            "tags": []
          },
          "execution_count": 31
        }
      ]
    },
    {
      "metadata": {
        "id": "YJndRY-ZPTb8",
        "outputId": "603d54aa-483d-413c-e09a-63fde0c63d1a",
        "colab": {
          "base_uri": "https://localhost:8080/",
          "height": 85
        }
      },
      "cell_type": "code",
      "source": [
        "for elemento in idades:\n",
        "  print(\"Recebi o elemento\", elemento)"
      ],
      "execution_count": null,
      "outputs": [
        {
          "output_type": "stream",
          "text": [
            "Recebi o elemento 20\n",
            "Recebi o elemento 39\n",
            "Recebi o elemento 18\n",
            "Recebi o elemento [27, 19]\n"
          ],
          "name": "stdout"
        }
      ]
    },
    {
      "metadata": {
        "id": "Rt1JRcrIPZVL",
        "outputId": "0a179f7c-485d-4c40-9da4-8d0f4e742832",
        "colab": {
          "base_uri": "https://localhost:8080/",
          "height": 34
        }
      },
      "cell_type": "code",
      "source": [
        "idades = [20, 39, 18]\n",
        "idades.extend([27, 19])\n",
        "idades"
      ],
      "execution_count": null,
      "outputs": [
        {
          "output_type": "execute_result",
          "data": {
            "text/plain": [
              "[20, 39, 18, 27, 19]"
            ]
          },
          "metadata": {
            "tags": []
          },
          "execution_count": 33
        }
      ]
    },
    {
      "metadata": {
        "id": "2TqBUj41PwzS",
        "outputId": "ca968eee-7d9e-4c05-934c-05cda5c05282",
        "colab": {
          "base_uri": "https://localhost:8080/",
          "height": 102
        }
      },
      "cell_type": "code",
      "source": [
        "for idade in idades:\n",
        "  print(idade + 1)"
      ],
      "execution_count": null,
      "outputs": [
        {
          "output_type": "stream",
          "text": [
            "21\n",
            "40\n",
            "19\n",
            "28\n",
            "20\n"
          ],
          "name": "stdout"
        }
      ]
    },
    {
      "metadata": {
        "id": "-zU67OikQCJq",
        "outputId": "9450216c-d41d-408b-e42e-ce3ac724189b",
        "colab": {
          "base_uri": "https://localhost:8080/",
          "height": 34
        }
      },
      "cell_type": "code",
      "source": [
        "idades_no_ano_que_vem = []\n",
        "for idade in idades:\n",
        "  idades_no_ano_que_vem.append(idade+1)\n",
        "idades_no_ano_que_vem"
      ],
      "execution_count": null,
      "outputs": [
        {
          "output_type": "execute_result",
          "data": {
            "text/plain": [
              "[21, 40, 19, 28, 20]"
            ]
          },
          "metadata": {
            "tags": []
          },
          "execution_count": 35
        }
      ]
    },
    {
      "metadata": {
        "id": "P50Oyp-EQQrC",
        "outputId": "e82987c1-a14a-4034-92dc-7ddadc93f2c4",
        "colab": {
          "base_uri": "https://localhost:8080/",
          "height": 34
        }
      },
      "cell_type": "code",
      "source": [
        "idades_no_ano_que_vem = [idade+1 for idade in idades]\n",
        "idades_no_ano_que_vem"
      ],
      "execution_count": null,
      "outputs": [
        {
          "output_type": "execute_result",
          "data": {
            "text/plain": [
              "[21, 40, 19, 28, 20]"
            ]
          },
          "metadata": {
            "tags": []
          },
          "execution_count": 36
        }
      ]
    },
    {
      "metadata": {
        "id": "QdPT5ougQmvS",
        "outputId": "a1485d31-95f8-4fb9-a869-8bd87a84d6ce",
        "colab": {
          "base_uri": "https://localhost:8080/",
          "height": 34
        }
      },
      "cell_type": "code",
      "source": [
        "[idade for idade in idades if idade > 21]"
      ],
      "execution_count": null,
      "outputs": [
        {
          "output_type": "execute_result",
          "data": {
            "text/plain": [
              "[39, 27]"
            ]
          },
          "metadata": {
            "tags": []
          },
          "execution_count": 37
        }
      ]
    },
    {
      "metadata": {
        "id": "25Mg6X9zQ-U5",
        "outputId": "4ac8565f-715b-4be7-8f16-fc6a3b628613",
        "colab": {
          "base_uri": "https://localhost:8080/",
          "height": 34
        }
      },
      "cell_type": "code",
      "source": [
        "idades"
      ],
      "execution_count": null,
      "outputs": [
        {
          "output_type": "execute_result",
          "data": {
            "text/plain": [
              "[20, 39, 18, 27, 19]"
            ]
          },
          "metadata": {
            "tags": []
          },
          "execution_count": 38
        }
      ]
    },
    {
      "metadata": {
        "id": "feAiRsuTRAQ0",
        "outputId": "6e4dfa9e-acd0-4e82-dd55-f9c151b31717",
        "colab": {
          "base_uri": "https://localhost:8080/",
          "height": 34
        }
      },
      "cell_type": "code",
      "source": [
        "def proximo_ano(idade):\n",
        "  return idade+1\n",
        "\n",
        "[proximo_ano(idade) for idade in idades if idade > 21]"
      ],
      "execution_count": null,
      "outputs": [
        {
          "output_type": "execute_result",
          "data": {
            "text/plain": [
              "[40, 28]"
            ]
          },
          "metadata": {
            "tags": []
          },
          "execution_count": 39
        }
      ]
    },
    {
      "metadata": {
        "id": "zHFn9PYHSY3Z"
      },
      "cell_type": "code",
      "source": [
        "def faz_processamento_de_visualizacao(lista):\n",
        "  print(len(lista))\n",
        "  lista.append(13)"
      ],
      "execution_count": null,
      "outputs": []
    },
    {
      "metadata": {
        "id": "7nWLQ7t-SqT3",
        "outputId": "1047efb7-feb3-4ef5-e9ee-d387d3a7b3a8",
        "colab": {
          "base_uri": "https://localhost:8080/",
          "height": 51
        }
      },
      "cell_type": "code",
      "source": [
        "idades = [16, 21, 29, 56, 43]\n",
        "faz_processamento_de_visualizacao(idades)\n",
        "idades"
      ],
      "execution_count": null,
      "outputs": [
        {
          "output_type": "stream",
          "text": [
            "5\n"
          ],
          "name": "stdout"
        },
        {
          "output_type": "execute_result",
          "data": {
            "text/plain": [
              "[16, 21, 29, 56, 43, 13]"
            ]
          },
          "metadata": {
            "tags": []
          },
          "execution_count": 41
        }
      ]
    },
    {
      "metadata": {
        "id": "k8n9XUouSvXc"
      },
      "cell_type": "code",
      "source": [
        "def faz_processamento_de_visualizacao(lista = []):\n",
        "  print(len(lista))\n",
        "  print(lista)\n",
        "  lista.append(13)"
      ],
      "execution_count": null,
      "outputs": []
    },
    {
      "metadata": {
        "id": "p-KkKf-6Tplr",
        "outputId": "942b9a8b-296d-4e2a-89f1-3885e59b6a70",
        "colab": {
          "base_uri": "https://localhost:8080/",
          "height": 51
        }
      },
      "cell_type": "code",
      "source": [
        "faz_processamento_de_visualizacao()"
      ],
      "execution_count": null,
      "outputs": [
        {
          "output_type": "stream",
          "text": [
            "0\n",
            "[]\n"
          ],
          "name": "stdout"
        }
      ]
    },
    {
      "metadata": {
        "id": "29p5f7fOTs9h",
        "outputId": "9784811e-4b84-450e-9040-6644a05c64ff",
        "colab": {
          "base_uri": "https://localhost:8080/",
          "height": 51
        }
      },
      "cell_type": "code",
      "source": [
        "faz_processamento_de_visualizacao()"
      ],
      "execution_count": null,
      "outputs": [
        {
          "output_type": "stream",
          "text": [
            "1\n",
            "[13]\n"
          ],
          "name": "stdout"
        }
      ]
    },
    {
      "metadata": {
        "id": "DWP6B6DuTu0j",
        "outputId": "585bf5ff-7df8-4e96-c2e6-53d30b35e4bd",
        "colab": {
          "base_uri": "https://localhost:8080/",
          "height": 51
        }
      },
      "cell_type": "code",
      "source": [
        "faz_processamento_de_visualizacao()"
      ],
      "execution_count": null,
      "outputs": [
        {
          "output_type": "stream",
          "text": [
            "2\n",
            "[13, 13]\n"
          ],
          "name": "stdout"
        }
      ]
    },
    {
      "metadata": {
        "id": "HYbSLIiSTwOB",
        "outputId": "dcae48ae-0be6-4f48-d0b6-c39cbf23f6ca",
        "colab": {
          "base_uri": "https://localhost:8080/",
          "height": 51
        }
      },
      "cell_type": "code",
      "source": [
        "faz_processamento_de_visualizacao()"
      ],
      "execution_count": null,
      "outputs": [
        {
          "output_type": "stream",
          "text": [
            "3\n",
            "[13, 13, 13]\n"
          ],
          "name": "stdout"
        }
      ]
    },
    {
      "metadata": {
        "id": "vS-8-DHiTxdh"
      },
      "cell_type": "code",
      "source": [
        "def faz_processamento_de_visualizacao(lista = list()):\n",
        "  print(len(lista))\n",
        "  print(lista)\n",
        "  lista.append(13)"
      ],
      "execution_count": null,
      "outputs": []
    },
    {
      "metadata": {
        "id": "lCMngXMGUKli",
        "outputId": "113fdde7-307e-4659-d01a-e09dfaf39d14",
        "colab": {
          "base_uri": "https://localhost:8080/",
          "height": 85
        }
      },
      "cell_type": "code",
      "source": [
        "faz_processamento_de_visualizacao()\n",
        "faz_processamento_de_visualizacao()"
      ],
      "execution_count": null,
      "outputs": [
        {
          "output_type": "stream",
          "text": [
            "0\n",
            "[]\n",
            "1\n",
            "[13]\n"
          ],
          "name": "stdout"
        }
      ]
    },
    {
      "metadata": {
        "id": "5sMp0XuKUMVf"
      },
      "cell_type": "code",
      "source": [
        "def faz_processamento_de_visualizacao(lista = None):\n",
        "  if lista == None:\n",
        "    lista = list()\n",
        "  print(len(lista))\n",
        "  print(lista)\n",
        "  lista.append(13)"
      ],
      "execution_count": null,
      "outputs": []
    },
    {
      "metadata": {
        "id": "2LxsmPtaUU-D",
        "outputId": "f364267c-5a08-4860-c5b6-edf36b2e4061",
        "colab": {
          "base_uri": "https://localhost:8080/",
          "height": 151
        }
      },
      "cell_type": "code",
      "source": [
        "faz_processamento_de_visualizacao()\n",
        "faz_processamento_de_visualizacao()\n",
        "faz_processamento_de_visualizacao()\n",
        "faz_processamento_de_visualizacao()"
      ],
      "execution_count": null,
      "outputs": [
        {
          "output_type": "stream",
          "text": [
            "0\n",
            "[]\n",
            "0\n",
            "[]\n",
            "0\n",
            "[]\n",
            "0\n",
            "[]\n"
          ],
          "name": "stdout"
        }
      ]
    },
    {
      "metadata": {
        "id": "nSLRH36CABiH"
      },
      "cell_type": "markdown",
      "source": [
        "# Objetos próprios"
      ]
    },
    {
      "metadata": {
        "id": "xD-vMk2iUYst"
      },
      "cell_type": "code",
      "source": [
        "class ContaCorrente:\n",
        "  def __init__(self, codigo):\n",
        "    self._codigo = codigo\n",
        "    self._saldo = 0\n",
        "\n",
        "  def deposita(self, valor):\n",
        "    self._saldo += valor\n",
        "\n",
        "\n",
        "  @property\n",
        "  def codigo(self):\n",
        "    return self._codigo\n",
        "\n",
        "  @property\n",
        "  def saldo(self):\n",
        "    return self._saldo\n",
        "\n",
        "  def __str__(self):\n",
        "    return \"[>>codigo {} saldo {}<<]\".format(self.codigo, self.saldo)"
      ],
      "execution_count": null,
      "outputs": []
    },
    {
      "metadata": {
        "id": "iX4AWuRnAoI-",
        "colab": {
          "base_uri": "https://localhost:8080/"
        },
        "outputId": "ff05d641-90c5-4a9f-c1c0-e39797bcc0a6"
      },
      "cell_type": "code",
      "source": [
        "conta_do_gui = ContaCorrente(15)\n",
        "print(conta_do_gui)"
      ],
      "execution_count": null,
      "outputs": [
        {
          "output_type": "stream",
          "name": "stdout",
          "text": [
            "[>>Codigo 15 Saldo 0<<]\n"
          ]
        }
      ]
    },
    {
      "metadata": {
        "id": "34S7rISWAtDp",
        "colab": {
          "base_uri": "https://localhost:8080/",
          "height": 34
        },
        "outputId": "39f4be9e-d3ad-4c8a-dba9-bd8b8fb5f724"
      },
      "cell_type": "code",
      "source": [
        "conta_do_gui.deposita(500)\n",
        "print(conta_do_gui)"
      ],
      "execution_count": null,
      "outputs": [
        {
          "output_type": "stream",
          "text": [
            "[>>Codigo 15 Saldo 500<<]\n"
          ],
          "name": "stdout"
        }
      ]
    },
    {
      "metadata": {
        "id": "RT5bL1mwAyFv",
        "colab": {
          "base_uri": "https://localhost:8080/",
          "height": 34
        },
        "outputId": "86129672-500a-4a31-fe9e-7dbef43b3903"
      },
      "cell_type": "code",
      "source": [
        "conta_da_dani = ContaCorrente(47685)\n",
        "conta_da_dani.deposita(1000)\n",
        "print(conta_da_dani)"
      ],
      "execution_count": null,
      "outputs": [
        {
          "output_type": "stream",
          "text": [
            "[>>Codigo 47685 Saldo 1000<<]\n"
          ],
          "name": "stdout"
        }
      ]
    },
    {
      "metadata": {
        "id": "a6vhFnxqA5Tb",
        "colab": {
          "base_uri": "https://localhost:8080/",
          "height": 50
        },
        "outputId": "0b39017c-8d8f-4de4-f9d2-6b1d6b15f4ec"
      },
      "cell_type": "code",
      "source": [
        "contas = [conta_do_gui, conta_da_dani]\n",
        "for conta in contas:\n",
        "  print(conta)"
      ],
      "execution_count": null,
      "outputs": [
        {
          "output_type": "stream",
          "text": [
            "[>>Codigo 15 Saldo 500<<]\n",
            "[>>Codigo 47685 Saldo 1000<<]\n"
          ],
          "name": "stdout"
        }
      ]
    },
    {
      "metadata": {
        "id": "X3zR5sx8A-_J"
      },
      "cell_type": "code",
      "source": [
        "contas = [conta_do_gui, conta_da_dani, conta_do_gui]"
      ],
      "execution_count": null,
      "outputs": []
    },
    {
      "metadata": {
        "id": "UKIQ1bkMBVk8",
        "colab": {
          "base_uri": "https://localhost:8080/",
          "height": 34
        },
        "outputId": "4f2e2703-d559-4182-9771-c72293d8ef47"
      },
      "cell_type": "code",
      "source": [
        "print(contas[0])"
      ],
      "execution_count": null,
      "outputs": [
        {
          "output_type": "stream",
          "text": [
            "[>>Codigo 15 Saldo 500<<]\n"
          ],
          "name": "stdout"
        }
      ]
    },
    {
      "metadata": {
        "id": "B1icEA1JBYm2"
      },
      "cell_type": "code",
      "source": [
        "conta_do_gui.deposita(100)"
      ],
      "execution_count": null,
      "outputs": []
    },
    {
      "metadata": {
        "id": "p_ZkStLRBc7Y",
        "colab": {
          "base_uri": "https://localhost:8080/",
          "height": 34
        },
        "outputId": "597eb930-e8c8-40f7-ddc2-cb03d19406a8"
      },
      "cell_type": "code",
      "source": [
        "print(contas[0])"
      ],
      "execution_count": null,
      "outputs": [
        {
          "output_type": "stream",
          "text": [
            "[>>Codigo 15 Saldo 600<<]\n"
          ],
          "name": "stdout"
        }
      ]
    },
    {
      "metadata": {
        "id": "ux-dx00DBfE5",
        "colab": {
          "base_uri": "https://localhost:8080/",
          "height": 34
        },
        "outputId": "3561a778-7c7c-4fb4-fb3b-654aaf65808a"
      },
      "cell_type": "code",
      "source": [
        "print(conta_do_gui)"
      ],
      "execution_count": null,
      "outputs": [
        {
          "output_type": "stream",
          "text": [
            "[>>Codigo 15 Saldo 600<<]\n"
          ],
          "name": "stdout"
        }
      ]
    },
    {
      "metadata": {
        "id": "tUeW-YgvBh69",
        "colab": {
          "base_uri": "https://localhost:8080/",
          "height": 34
        },
        "outputId": "e8b8525c-321c-4aa9-d87a-95b8dd5943b0"
      },
      "cell_type": "code",
      "source": [
        "print(contas[2])"
      ],
      "execution_count": null,
      "outputs": [
        {
          "output_type": "stream",
          "text": [
            "[>>Codigo 15 Saldo 600<<]\n"
          ],
          "name": "stdout"
        }
      ]
    },
    {
      "metadata": {
        "id": "FfxPIh3OB3Mi"
      },
      "cell_type": "code",
      "source": [
        "contas[2].deposita(300)"
      ],
      "execution_count": null,
      "outputs": []
    },
    {
      "metadata": {
        "id": "6KAQeXTyCCG-",
        "colab": {
          "base_uri": "https://localhost:8080/",
          "height": 34
        },
        "outputId": "09da6ae8-e507-40a6-f7b2-b3d2fe4e4cd6"
      },
      "cell_type": "code",
      "source": [
        "print(conta_do_gui)"
      ],
      "execution_count": null,
      "outputs": [
        {
          "output_type": "stream",
          "text": [
            "[>>Codigo 15 Saldo 900<<]\n"
          ],
          "name": "stdout"
        }
      ]
    },
    {
      "metadata": {
        "id": "FmaNTI6UCECK",
        "colab": {
          "base_uri": "https://localhost:8080/",
          "height": 50
        },
        "outputId": "04d22cd0-7cfc-444d-b5fe-0aa910359a0e"
      },
      "cell_type": "code",
      "source": [
        "def deposita_para_todas(contas):\n",
        "  for conta in contas:\n",
        "    conta.deposita(100)\n",
        "\n",
        "contas = [conta_do_gui, conta_da_dani]\n",
        "print(contas[0], contas[1])\n",
        "deposita_para_todas(contas)\n",
        "print(contas[0], contas[1])"
      ],
      "execution_count": null,
      "outputs": [
        {
          "output_type": "stream",
          "text": [
            "[>>Codigo 15 Saldo 900<<] [>>Codigo 47685 Saldo 1000<<]\n",
            "[>>Codigo 15 Saldo 1000<<] [>>Codigo 47685 Saldo 1100<<]\n"
          ],
          "name": "stdout"
        }
      ]
    },
    {
      "metadata": {
        "id": "2ziWV7k6D1jf",
        "colab": {
          "base_uri": "https://localhost:8080/",
          "height": 34
        },
        "outputId": "d15c5c5b-e0d8-471f-f052-be2612ecadbf"
      },
      "cell_type": "code",
      "source": [
        "contas.insert(0,76)\n",
        "print(contas[0], contas[1], contas[2])"
      ],
      "execution_count": null,
      "outputs": [
        {
          "output_type": "stream",
          "text": [
            "76 [>>Codigo 15 Saldo 1000<<] [>>Codigo 47685 Saldo 1100<<]\n"
          ],
          "name": "stdout"
        }
      ]
    },
    {
      "metadata": {
        "id": "u4oCdsKpEKkX",
        "colab": {
          "base_uri": "https://localhost:8080/",
          "height": 297
        },
        "outputId": "bccf60fa-10ab-4c6f-db4b-e929a710b97a"
      },
      "cell_type": "code",
      "source": [
        "deposita_para_todas(contas)\n",
        "print(contas[0], contas[1], contas[2])"
      ],
      "execution_count": null,
      "outputs": [
        {
          "output_type": "error",
          "ename": "AttributeError",
          "evalue": "ignored",
          "traceback": [
            "\u001b[0;31m---------------------------------------------------------------------------\u001b[0m",
            "\u001b[0;31mAttributeError\u001b[0m                            Traceback (most recent call last)",
            "\u001b[0;32m<ipython-input-67-92ac4487eece>\u001b[0m in \u001b[0;36m<module>\u001b[0;34m()\u001b[0m\n\u001b[0;32m----> 1\u001b[0;31m \u001b[0mdeposita_para_todas\u001b[0m\u001b[0;34m(\u001b[0m\u001b[0mcontas\u001b[0m\u001b[0;34m)\u001b[0m\u001b[0;34m\u001b[0m\u001b[0;34m\u001b[0m\u001b[0m\n\u001b[0m\u001b[1;32m      2\u001b[0m \u001b[0mprint\u001b[0m\u001b[0;34m(\u001b[0m\u001b[0mcontas\u001b[0m\u001b[0;34m[\u001b[0m\u001b[0;36m0\u001b[0m\u001b[0;34m]\u001b[0m\u001b[0;34m,\u001b[0m \u001b[0mcontas\u001b[0m\u001b[0;34m[\u001b[0m\u001b[0;36m1\u001b[0m\u001b[0;34m]\u001b[0m\u001b[0;34m,\u001b[0m \u001b[0mcontas\u001b[0m\u001b[0;34m[\u001b[0m\u001b[0;36m2\u001b[0m\u001b[0;34m]\u001b[0m\u001b[0;34m)\u001b[0m\u001b[0;34m\u001b[0m\u001b[0;34m\u001b[0m\u001b[0m\n",
            "\u001b[0;32m<ipython-input-65-5c36215b3621>\u001b[0m in \u001b[0;36mdeposita_para_todas\u001b[0;34m(contas)\u001b[0m\n\u001b[1;32m      1\u001b[0m \u001b[0;32mdef\u001b[0m \u001b[0mdeposita_para_todas\u001b[0m\u001b[0;34m(\u001b[0m\u001b[0mcontas\u001b[0m\u001b[0;34m)\u001b[0m\u001b[0;34m:\u001b[0m\u001b[0;34m\u001b[0m\u001b[0;34m\u001b[0m\u001b[0m\n\u001b[1;32m      2\u001b[0m   \u001b[0;32mfor\u001b[0m \u001b[0mconta\u001b[0m \u001b[0;32min\u001b[0m \u001b[0mcontas\u001b[0m\u001b[0;34m:\u001b[0m\u001b[0;34m\u001b[0m\u001b[0;34m\u001b[0m\u001b[0m\n\u001b[0;32m----> 3\u001b[0;31m     \u001b[0mconta\u001b[0m\u001b[0;34m.\u001b[0m\u001b[0mdeposita\u001b[0m\u001b[0;34m(\u001b[0m\u001b[0;36m100\u001b[0m\u001b[0;34m)\u001b[0m\u001b[0;34m\u001b[0m\u001b[0;34m\u001b[0m\u001b[0m\n\u001b[0m\u001b[1;32m      4\u001b[0m \u001b[0;34m\u001b[0m\u001b[0m\n\u001b[1;32m      5\u001b[0m \u001b[0mcontas\u001b[0m \u001b[0;34m=\u001b[0m \u001b[0;34m[\u001b[0m\u001b[0mconta_do_gui\u001b[0m\u001b[0;34m,\u001b[0m \u001b[0mconta_da_dani\u001b[0m\u001b[0;34m]\u001b[0m\u001b[0;34m\u001b[0m\u001b[0;34m\u001b[0m\u001b[0m\n",
            "\u001b[0;31mAttributeError\u001b[0m: 'int' object has no attribute 'deposita'"
          ]
        }
      ]
    },
    {
      "metadata": {
        "id": "zJ2GmpD5EXJW"
      },
      "cell_type": "code",
      "source": [
        "guilherme = ('Guilherme', 37, 1981) # tupla\n",
        "daniela = ('Daniela', 31, 1987)\n",
        "# paulo = (39, 'Paulo', 1979) # ruim"
      ],
      "execution_count": null,
      "outputs": []
    },
    {
      "metadata": {
        "id": "s19TLKmqFOON",
        "colab": {
          "base_uri": "https://localhost:8080/",
          "height": 162
        },
        "outputId": "82d31f21-c9ca-4b4e-8003-cdff73c1df8e"
      },
      "cell_type": "code",
      "source": [
        "guilherme.append(6754)"
      ],
      "execution_count": null,
      "outputs": [
        {
          "output_type": "error",
          "ename": "AttributeError",
          "evalue": "ignored",
          "traceback": [
            "\u001b[0;31m---------------------------------------------------------------------------\u001b[0m",
            "\u001b[0;31mAttributeError\u001b[0m                            Traceback (most recent call last)",
            "\u001b[0;32m<ipython-input-69-b58a3f93fa55>\u001b[0m in \u001b[0;36m<module>\u001b[0;34m()\u001b[0m\n\u001b[0;32m----> 1\u001b[0;31m \u001b[0mguilherme\u001b[0m\u001b[0;34m.\u001b[0m\u001b[0mappend\u001b[0m\u001b[0;34m(\u001b[0m\u001b[0;36m6754\u001b[0m\u001b[0;34m)\u001b[0m\u001b[0;34m\u001b[0m\u001b[0;34m\u001b[0m\u001b[0m\n\u001b[0m",
            "\u001b[0;31mAttributeError\u001b[0m: 'tuple' object has no attribute 'append'"
          ]
        }
      ]
    },
    {
      "metadata": {
        "id": "N5fhlteuFP_a",
        "colab": {
          "base_uri": "https://localhost:8080/",
          "height": 34
        },
        "outputId": "9ec2c241-3709-4b34-fc1c-a1cfb36d412e"
      },
      "cell_type": "code",
      "source": [
        "conta_do_gui = (15, 1000)\n",
        "# conta_do_gui.deposita() # variação OO\n",
        "conta_do_gui[1]"
      ],
      "execution_count": null,
      "outputs": [
        {
          "output_type": "execute_result",
          "data": {
            "text/plain": [
              "1000"
            ]
          },
          "metadata": {
            "tags": []
          },
          "execution_count": 70
        }
      ]
    },
    {
      "metadata": {
        "id": "vfsyYmjwF5b8",
        "colab": {
          "base_uri": "https://localhost:8080/",
          "height": 162
        },
        "outputId": "6a16b79f-ff85-463b-c283-7859f9d3ff90"
      },
      "cell_type": "code",
      "source": [
        "conta_do_gui[1] += 100"
      ],
      "execution_count": null,
      "outputs": [
        {
          "output_type": "error",
          "ename": "TypeError",
          "evalue": "ignored",
          "traceback": [
            "\u001b[0;31m---------------------------------------------------------------------------\u001b[0m",
            "\u001b[0;31mTypeError\u001b[0m                                 Traceback (most recent call last)",
            "\u001b[0;32m<ipython-input-71-b6479b2fecd6>\u001b[0m in \u001b[0;36m<module>\u001b[0;34m()\u001b[0m\n\u001b[0;32m----> 1\u001b[0;31m \u001b[0mconta_do_gui\u001b[0m\u001b[0;34m[\u001b[0m\u001b[0;36m1\u001b[0m\u001b[0;34m]\u001b[0m \u001b[0;34m+=\u001b[0m \u001b[0;36m100\u001b[0m\u001b[0;34m\u001b[0m\u001b[0;34m\u001b[0m\u001b[0m\n\u001b[0m",
            "\u001b[0;31mTypeError\u001b[0m: 'tuple' object does not support item assignment"
          ]
        }
      ]
    },
    {
      "metadata": {
        "id": "uJcl3XRdF7d6"
      },
      "cell_type": "code",
      "source": [
        "def deposita(conta): # variação \"funcional\"(separando o comportamento dos dados)\n",
        "  novo_saldo = conta[1] + 100\n",
        "  codigo = conta[0]\n",
        "  return (codigo, novo_saldo)"
      ],
      "execution_count": null,
      "outputs": []
    },
    {
      "metadata": {
        "id": "mLBon2SXGNWp",
        "colab": {
          "base_uri": "https://localhost:8080/",
          "height": 34
        },
        "outputId": "e084672f-9572-4179-c586-a2e530740c8e"
      },
      "cell_type": "code",
      "source": [
        "deposita(conta_do_gui)"
      ],
      "execution_count": null,
      "outputs": [
        {
          "output_type": "execute_result",
          "data": {
            "text/plain": [
              "(15, 1100)"
            ]
          },
          "metadata": {
            "tags": []
          },
          "execution_count": 73
        }
      ]
    },
    {
      "metadata": {
        "id": "44tCMGtOGPsL",
        "colab": {
          "base_uri": "https://localhost:8080/",
          "height": 34
        },
        "outputId": "26f4bb35-d858-42e5-e390-2548d56aecd7"
      },
      "cell_type": "code",
      "source": [
        "conta_do_gui"
      ],
      "execution_count": null,
      "outputs": [
        {
          "output_type": "execute_result",
          "data": {
            "text/plain": [
              "(15, 1000)"
            ]
          },
          "metadata": {
            "tags": []
          },
          "execution_count": 74
        }
      ]
    },
    {
      "metadata": {
        "id": "6HC3jJ5XGSSe",
        "colab": {
          "base_uri": "https://localhost:8080/",
          "height": 34
        },
        "outputId": "b444bb6f-a3b5-46f0-d776-b79fd4edd33f"
      },
      "cell_type": "code",
      "source": [
        "conta_do_gui = deposita(conta_do_gui)\n",
        "conta_do_gui"
      ],
      "execution_count": null,
      "outputs": [
        {
          "output_type": "execute_result",
          "data": {
            "text/plain": [
              "(15, 1100)"
            ]
          },
          "metadata": {
            "tags": []
          },
          "execution_count": 75
        }
      ]
    },
    {
      "metadata": {
        "id": "D7yIlJNYGVoc",
        "colab": {
          "base_uri": "https://localhost:8080/",
          "height": 34
        },
        "outputId": "5d007de3-1928-4e66-f818-355f72a01acf"
      },
      "cell_type": "code",
      "source": [
        "usuarios = [guilherme, daniela]\n",
        "usuarios"
      ],
      "execution_count": null,
      "outputs": [
        {
          "output_type": "execute_result",
          "data": {
            "text/plain": [
              "[('Guilherme', 37, 1981), ('Daniela', 31, 1987)]"
            ]
          },
          "metadata": {
            "tags": []
          },
          "execution_count": 76
        }
      ]
    },
    {
      "metadata": {
        "id": "2UUDEfEcHWbM"
      },
      "cell_type": "code",
      "source": [
        "usuarios.append(('Paulo', 39, 1979))"
      ],
      "execution_count": null,
      "outputs": []
    },
    {
      "metadata": {
        "id": "XgqCK2msHf6z",
        "colab": {
          "base_uri": "https://localhost:8080/",
          "height": 34
        },
        "outputId": "04bcc8c9-23ad-4742-e117-aa730e4f30c7"
      },
      "cell_type": "code",
      "source": [
        "usuarios"
      ],
      "execution_count": null,
      "outputs": [
        {
          "output_type": "execute_result",
          "data": {
            "text/plain": [
              "[('Guilherme', 37, 1981), ('Daniela', 31, 1987), ('Paulo', 39, 1979)]"
            ]
          },
          "metadata": {
            "tags": []
          },
          "execution_count": 78
        }
      ]
    },
    {
      "metadata": {
        "id": "Ce9HE5C1Hg-W",
        "colab": {
          "base_uri": "https://localhost:8080/",
          "height": 164
        },
        "outputId": "5bd64715-ae50-45ad-ab75-0d8d8b05e57b"
      },
      "cell_type": "code",
      "source": [
        "usuarios[0][0] = 'Guilherme Silveira'\n"
      ],
      "execution_count": null,
      "outputs": [
        {
          "output_type": "error",
          "ename": "TypeError",
          "evalue": "ignored",
          "traceback": [
            "\u001b[0;31m---------------------------------------------------------------------------\u001b[0m",
            "\u001b[0;31mTypeError\u001b[0m                                 Traceback (most recent call last)",
            "\u001b[0;32m<ipython-input-82-dc00118821b7>\u001b[0m in \u001b[0;36m<module>\u001b[0;34m()\u001b[0m\n\u001b[0;32m----> 1\u001b[0;31m \u001b[0musuarios\u001b[0m\u001b[0;34m[\u001b[0m\u001b[0;36m0\u001b[0m\u001b[0;34m]\u001b[0m\u001b[0;34m[\u001b[0m\u001b[0;36m0\u001b[0m\u001b[0;34m]\u001b[0m \u001b[0;34m=\u001b[0m \u001b[0;34m'Guilherme Silveira'\u001b[0m\u001b[0;34m\u001b[0m\u001b[0;34m\u001b[0m\u001b[0m\n\u001b[0m",
            "\u001b[0;31mTypeError\u001b[0m: 'tuple' object does not support item assignment"
          ]
        }
      ]
    },
    {
      "metadata": {
        "id": "m6jx16xDHoGo"
      },
      "cell_type": "code",
      "source": [
        "conta_do_gui = ContaCorrente(15)\n",
        "conta_do_gui.deposita(500)\n",
        "conta_da_dani = ContaCorrente(234876)\n",
        "conta_da_dani.deposita(1000)\n",
        "\n",
        "contas = (conta_do_gui, conta_da_dani)"
      ],
      "execution_count": null,
      "outputs": []
    },
    {
      "metadata": {
        "id": "1oJCswAdIFza",
        "colab": {
          "base_uri": "https://localhost:8080/",
          "height": 51
        },
        "outputId": "81c895b3-4420-44c6-9193-f0eca4f0ea85"
      },
      "cell_type": "code",
      "source": [
        "for conta in contas:\n",
        "  print(conta)"
      ],
      "execution_count": null,
      "outputs": [
        {
          "output_type": "stream",
          "text": [
            "[>>Codigo 15 Saldo 500<<]\n",
            "[>>Codigo 234876 Saldo 1000<<]\n"
          ],
          "name": "stdout"
        }
      ]
    },
    {
      "metadata": {
        "id": "VOyxcyruIIP4",
        "colab": {
          "base_uri": "https://localhost:8080/",
          "height": 164
        },
        "outputId": "1ca8f881-47ec-4d94-8b7b-6b15e5431a68"
      },
      "cell_type": "code",
      "source": [
        "contas.append(423768)"
      ],
      "execution_count": null,
      "outputs": [
        {
          "output_type": "error",
          "ename": "AttributeError",
          "evalue": "ignored",
          "traceback": [
            "\u001b[0;31m---------------------------------------------------------------------------\u001b[0m",
            "\u001b[0;31mAttributeError\u001b[0m                            Traceback (most recent call last)",
            "\u001b[0;32m<ipython-input-86-2a440e860371>\u001b[0m in \u001b[0;36m<module>\u001b[0;34m()\u001b[0m\n\u001b[0;32m----> 1\u001b[0;31m \u001b[0mcontas\u001b[0m\u001b[0;34m.\u001b[0m\u001b[0mappend\u001b[0m\u001b[0;34m(\u001b[0m\u001b[0;36m423768\u001b[0m\u001b[0;34m)\u001b[0m\u001b[0;34m\u001b[0m\u001b[0;34m\u001b[0m\u001b[0m\n\u001b[0m",
            "\u001b[0;31mAttributeError\u001b[0m: 'tuple' object has no attribute 'append'"
          ]
        }
      ]
    },
    {
      "metadata": {
        "id": "RPH0pv0QIRNQ"
      },
      "cell_type": "code",
      "source": [
        "contas[0].deposita(300)"
      ],
      "execution_count": null,
      "outputs": []
    },
    {
      "metadata": {
        "id": "SXMP9_n7Idnc",
        "colab": {
          "base_uri": "https://localhost:8080/",
          "height": 50
        },
        "outputId": "be5fb4e0-3a59-4cff-fe97-35f52949e5ed"
      },
      "cell_type": "code",
      "source": [
        "for conta in contas:\n",
        "  print(conta)"
      ],
      "execution_count": null,
      "outputs": [
        {
          "output_type": "stream",
          "text": [
            "[>>Codigo 15 Saldo 800<<]\n",
            "[>>Codigo 234876 Saldo 1000<<]\n"
          ],
          "name": "stdout"
        }
      ]
    },
    {
      "cell_type": "markdown",
      "source": [
        "# Herança e Polimorfismo"
      ],
      "metadata": {
        "id": "HVIA-SzKRfEk"
      }
    },
    {
      "metadata": {
        "id": "iN_t1Ho-IkBY"
      },
      "cell_type": "code",
      "source": [
        "from abc import ABCMeta, abstractmethod\n",
        "class Conta(metaclass=ABCMeta):\n",
        "  def __init__(self, codigo):\n",
        "    self._codigo = codigo\n",
        "    self._saldo = 0\n",
        "\n",
        "  def deposita(self, valor):\n",
        "    self._saldo += valor\n",
        "\n",
        "  @abstractmethod\n",
        "  def proximo_mes(self):\n",
        "    pass\n",
        "  @property\n",
        "  def codigo(self):\n",
        "    return self._codigo\n",
        "\n",
        "  @property\n",
        "  def saldo(self):\n",
        "    return self._saldo\n",
        "\n",
        "  def __str__(self):\n",
        "    return \"[>>codigo {} saldo {}<<]\".format(self.codigo, self.saldo)"
      ],
      "execution_count": null,
      "outputs": []
    },
    {
      "cell_type": "code",
      "source": [
        "print(Conta(88))"
      ],
      "metadata": {
        "colab": {
          "base_uri": "https://localhost:8080/",
          "height": 141
        },
        "id": "uyKBj0uQWNxM",
        "outputId": "81469c43-25a0-4845-e59f-6ecd124db5ee"
      },
      "execution_count": null,
      "outputs": [
        {
          "output_type": "error",
          "ename": "TypeError",
          "evalue": "Can't instantiate abstract class Conta with abstract method proximo_mes",
          "traceback": [
            "\u001b[0;31m---------------------------------------------------------------------------\u001b[0m",
            "\u001b[0;31mTypeError\u001b[0m                                 Traceback (most recent call last)",
            "\u001b[0;32m<ipython-input-75-bcabbe50454b>\u001b[0m in \u001b[0;36m<cell line: 1>\u001b[0;34m()\u001b[0m\n\u001b[0;32m----> 1\u001b[0;31m \u001b[0mprint\u001b[0m\u001b[0;34m(\u001b[0m\u001b[0mConta\u001b[0m\u001b[0;34m(\u001b[0m\u001b[0;36m88\u001b[0m\u001b[0;34m)\u001b[0m\u001b[0;34m)\u001b[0m\u001b[0;34m\u001b[0m\u001b[0;34m\u001b[0m\u001b[0m\n\u001b[0m",
            "\u001b[0;31mTypeError\u001b[0m: Can't instantiate abstract class Conta with abstract method proximo_mes"
          ]
        }
      ]
    },
    {
      "cell_type": "code",
      "source": [
        "class ContaCorrente(Conta):\n",
        "  def proximo_mes(self):\n",
        "    self._saldo -= 2\n",
        "\n",
        "class ContaPoupansa(Conta):\n",
        "  def proximo_mes(self):\n",
        "    self._saldo *= 1.01\n",
        "    self._saldo -= 3\n",
        "    self._saldo = round(self._saldo, 2)\n",
        "\n",
        "class ContaInvestimento(Conta):\n",
        "  pass\n",
        "\n"
      ],
      "metadata": {
        "id": "AEhDbVutWlQC"
      },
      "execution_count": null,
      "outputs": []
    },
    {
      "cell_type": "code",
      "source": [
        "conta16 = ContaCorrente(16)\n",
        "conta16.deposita(1000)\n",
        "print(conta16)\n",
        "conta16.proximo_mes()\n",
        "print(conta16)"
      ],
      "metadata": {
        "colab": {
          "base_uri": "https://localhost:8080/"
        },
        "id": "kUlyMVzdXuth",
        "outputId": "3ee55081-431c-43d3-d724-c54d866d3b1c"
      },
      "execution_count": null,
      "outputs": [
        {
          "output_type": "stream",
          "name": "stdout",
          "text": [
            "[>>codigo 16 saldo 1000<<]\n",
            "[>>codigo 16 saldo 998<<]\n"
          ]
        }
      ]
    },
    {
      "cell_type": "code",
      "source": [
        "conta17 = ContaPoupansa(17)\n",
        "conta17.deposita(1000)\n",
        "print(conta17)\n",
        "conta17.proximo_mes()\n",
        "print(conta17)"
      ],
      "metadata": {
        "colab": {
          "base_uri": "https://localhost:8080/"
        },
        "id": "b_6Sc46UaMyL",
        "outputId": "adbb41dd-37e7-4305-9517-cc638b62301a"
      },
      "execution_count": null,
      "outputs": [
        {
          "output_type": "stream",
          "name": "stdout",
          "text": [
            "[>>codigo 17 saldo 1000<<]\n",
            "[>>codigo 17 saldo 1007.0<<]\n"
          ]
        }
      ]
    },
    {
      "cell_type": "code",
      "source": [
        "contas = [conta16, conta17]\n",
        "for conta in contas:\n",
        "  conta.proximo_mes()\n",
        "  print(conta)"
      ],
      "metadata": {
        "colab": {
          "base_uri": "https://localhost:8080/"
        },
        "id": "mM6j_jO-g0-k",
        "outputId": "9bbd181f-8a2d-44e9-d382-c70e0af1a55a"
      },
      "execution_count": null,
      "outputs": [
        {
          "output_type": "stream",
          "name": "stdout",
          "text": [
            "[>>codigo 16 saldo 996<<]\n",
            "[>>codigo 17 saldo 1014.07<<]\n"
          ]
        }
      ]
    },
    {
      "cell_type": "markdown",
      "source": [
        "Array:\n",
        " É mais restrito, ideal para armazenar elementos de um único tipo de dado, como números inteiros ou de ponto flutuante. Pode ser mais eficiente em termos de uso de memória em comparação com listas, especialmente para grandes conjuntos de dados numéricos.\n",
        "\n",
        "\n",
        "Evitaremos usar array puro,se precisamos de trabalho numérico, é costume usar o numpy"
      ],
      "metadata": {
        "id": "gZjPfHY-sgEP"
      }
    },
    {
      "cell_type": "code",
      "source": [
        "import array as arr\n",
        "\n",
        "arr.array(\"d\", [1, 3.5])"
      ],
      "metadata": {
        "colab": {
          "base_uri": "https://localhost:8080/"
        },
        "id": "XWJUp_R6sq2o",
        "outputId": "1c2fb2ec-e127-4f8f-cdbd-ebeb640914c8"
      },
      "execution_count": null,
      "outputs": [
        {
          "output_type": "execute_result",
          "data": {
            "text/plain": [
              "array('d', [1.0, 3.5])"
            ]
          },
          "metadata": {},
          "execution_count": 78
        }
      ]
    },
    {
      "cell_type": "markdown",
      "source": [
        "NumPy\n",
        "\n",
        "É uma biblioteca em Python utilizada para manipulação de arrays e realização de operações matemáticas eficientes. Ela fornece estruturas de dados, como numpy.ndarray, que são mais eficientes para lidar com cálculos numéricos em comparação com as listas padrão do Python.\n",
        "\n",
        "pip install numpy"
      ],
      "metadata": {
        "id": "OW7FRMW8t2RF"
      }
    },
    {
      "cell_type": "code",
      "source": [
        "import numpy as np\n",
        "numeros = np.array([1, 3.5])\n",
        "numeros"
      ],
      "metadata": {
        "colab": {
          "base_uri": "https://localhost:8080/"
        },
        "id": "KeIqZ1x5t1x_",
        "outputId": "0c154269-93e9-4aa2-a12e-14d2d097b825"
      },
      "execution_count": null,
      "outputs": [
        {
          "output_type": "execute_result",
          "data": {
            "text/plain": [
              "array([1. , 3.5])"
            ]
          },
          "metadata": {},
          "execution_count": 79
        }
      ]
    },
    {
      "cell_type": "markdown",
      "source": [
        "#__eq__\n",
        "\n",
        "Em resumo, foram abordados conceitos como criação de classes, métodos e comparação entre objetos. Foi destacada a importância de implementar o método __eq__ para definir a condição de igualdade e também a possibilidade de verificar o tipo do objeto durante a comparação."
      ],
      "metadata": {
        "id": "S7w4y8pLsBOe"
      }
    },
    {
      "cell_type": "code",
      "source": [
        "class ContaSalario:\n",
        "\n",
        "  def __init__(self, codigo):\n",
        "      self._codigo = codigo\n",
        "      self._saldo = 0\n",
        "\n",
        "  def deposita(self, valor):\n",
        "    self._saldo += valor\n",
        "\n",
        "  def __str__(self):\n",
        "     return \"[>>Codigo {} Saldo {}<<]\".format(self._codigo, self._saldo)\n",
        "\n",
        "  def __eq__(self, other):\n",
        "    if type(other) != ContaSalario:\n",
        "      False\n",
        "    return self.codigo == other.codigo and self.saldo == other.saldo\n",
        "\n",
        "\n",
        "  @property\n",
        "  def codigo(self):\n",
        "    return self._codigo\n",
        "\n",
        "  @property\n",
        "  def saldo(self):\n",
        "    return self._saldo\n",
        "\n"
      ],
      "metadata": {
        "id": "HuWsB3Ajfczh"
      },
      "execution_count": null,
      "outputs": []
    },
    {
      "cell_type": "code",
      "source": [
        "conta1 = ContaSalario(263)\n",
        "print(conta1)"
      ],
      "metadata": {
        "colab": {
          "base_uri": "https://localhost:8080/"
        },
        "id": "hOMyxJwCfsW6",
        "outputId": "635a7517-4b71-42ab-a3a9-6daf2684d429"
      },
      "execution_count": null,
      "outputs": [
        {
          "output_type": "stream",
          "name": "stdout",
          "text": [
            "[>>Codigo 263 Saldo 0<<]\n"
          ]
        }
      ]
    },
    {
      "cell_type": "code",
      "source": [
        "conta2 = ContaSalario(263)\n",
        "print(conta2)"
      ],
      "metadata": {
        "colab": {
          "base_uri": "https://localhost:8080/"
        },
        "id": "1Xt1cJb9gLXt",
        "outputId": "ffe395c1-fe23-46d1-c8a4-fc926475a368"
      },
      "execution_count": null,
      "outputs": [
        {
          "output_type": "stream",
          "name": "stdout",
          "text": [
            "[>>Codigo 263 Saldo 0<<]\n"
          ]
        }
      ]
    },
    {
      "cell_type": "code",
      "source": [
        "conta1 == conta2"
      ],
      "metadata": {
        "colab": {
          "base_uri": "https://localhost:8080/"
        },
        "id": "TvGsA2nKgUuF",
        "outputId": "5c964168-8e24-4d0e-e980-45885efd213e"
      },
      "execution_count": null,
      "outputs": [
        {
          "output_type": "execute_result",
          "data": {
            "text/plain": [
              "True"
            ]
          },
          "metadata": {},
          "execution_count": 18
        }
      ]
    },
    {
      "cell_type": "code",
      "source": [
        "contas = [conta1]\n",
        "conta1 in contas"
      ],
      "metadata": {
        "colab": {
          "base_uri": "https://localhost:8080/"
        },
        "id": "fSMYwzxsoOy9",
        "outputId": "d8e4b7f7-7d21-451a-e598-79166d2c3889"
      },
      "execution_count": null,
      "outputs": [
        {
          "output_type": "execute_result",
          "data": {
            "text/plain": [
              "True"
            ]
          },
          "metadata": {},
          "execution_count": 19
        }
      ]
    },
    {
      "cell_type": "code",
      "source": [
        "conta2 in contas"
      ],
      "metadata": {
        "colab": {
          "base_uri": "https://localhost:8080/"
        },
        "id": "L9B786U1oYUq",
        "outputId": "4b9a1cf7-b291-46be-e013-01171a9136f5"
      },
      "execution_count": null,
      "outputs": [
        {
          "output_type": "execute_result",
          "data": {
            "text/plain": [
              "True"
            ]
          },
          "metadata": {},
          "execution_count": 20
        }
      ]
    },
    {
      "cell_type": "code",
      "source": [
        "print(conta1)\n",
        "print(conta2)\n",
        "conta1.deposita(2)\n",
        "conta2.deposita(6)\n",
        "print(conta1)\n",
        "print(conta2)\n",
        "print(conta1 == conta2)"
      ],
      "metadata": {
        "colab": {
          "base_uri": "https://localhost:8080/"
        },
        "id": "tiTV6kP-qEBJ",
        "outputId": "5a7021e2-1616-46ab-f0f7-f9e6bbdfff44"
      },
      "execution_count": null,
      "outputs": [
        {
          "output_type": "stream",
          "name": "stdout",
          "text": [
            "[>>Codigo 263 Saldo 2<<]\n",
            "[>>Codigo 263 Saldo 6<<]\n",
            "[>>Codigo 263 Saldo 4<<]\n",
            "[>>Codigo 263 Saldo 12<<]\n",
            "False\n"
          ]
        }
      ]
    },
    {
      "cell_type": "markdown",
      "source": [
        "#enumerated, range e desempacotamento automatico de tuplas\n",
        "\n",
        "aprendemos sobre o uso de listas e sequências em Python, percorrendo os elementos de uma lista e acessando tanto o valor quanto a posição de cada elemento. Também aprendemos sobre a função enumerate e o desempacotamento de tuplas, destacando a importância de escolher a abordagem adequada dependendo do número de elementos da tupla."
      ],
      "metadata": {
        "id": "zDdQBppVGgzC"
      }
    },
    {
      "cell_type": "code",
      "source": [
        "idades = [15, 87, 32,  65, 56, 32, 49, 37]\n",
        "\n",
        "for i in range(len(idades)):\n",
        "  print(i, idades[i])"
      ],
      "metadata": {
        "colab": {
          "base_uri": "https://localhost:8080/"
        },
        "id": "LPfxRKYdhU7U",
        "outputId": "ce20fe49-5bee-4e33-da96-b3ca38ba30f3"
      },
      "execution_count": null,
      "outputs": [
        {
          "output_type": "stream",
          "name": "stdout",
          "text": [
            "0 15\n",
            "1 87\n",
            "2 32\n",
            "3 65\n",
            "4 56\n",
            "5 32\n",
            "6 49\n",
            "7 37\n"
          ]
        }
      ]
    },
    {
      "cell_type": "code",
      "source": [
        "idades = [15, 87, 32,  65, 56, 32, 49, 37]\n",
        "\n",
        "def buscar_idade(idade_escolida):\n",
        "    for i in range(len(idades)):\n",
        "        if idade_escolida == idades[i]:\n",
        "          return idades[i], i\n",
        "\n",
        "print(buscar_idade(32))"
      ],
      "metadata": {
        "colab": {
          "base_uri": "https://localhost:8080/"
        },
        "id": "fWZy87FOJTDa",
        "outputId": "5c8508e8-27bc-4ac6-ec48-edda6c4d2b22"
      },
      "execution_count": null,
      "outputs": [
        {
          "output_type": "stream",
          "name": "stdout",
          "text": [
            "(32, 2)\n"
          ]
        }
      ]
    },
    {
      "cell_type": "code",
      "source": [
        "idades = [15, 87, 32,  65, 56, 32, 49, 37]\n",
        "range(len(idades)) #laxy"
      ],
      "metadata": {
        "colab": {
          "base_uri": "https://localhost:8080/"
        },
        "id": "jXtZk3Clis8x",
        "outputId": "26bd37ea-adf4-4732-9dc1-30bbda43b4a3"
      },
      "execution_count": null,
      "outputs": [
        {
          "output_type": "execute_result",
          "data": {
            "text/plain": [
              "range(0, 7)"
            ]
          },
          "metadata": {},
          "execution_count": 64
        }
      ]
    },
    {
      "cell_type": "code",
      "source": [
        "idades = [15, 87, 32,  65, 56, 32, 49, 37]\n",
        "enumerate(idades) #lazy"
      ],
      "metadata": {
        "colab": {
          "base_uri": "https://localhost:8080/"
        },
        "id": "ICZLHkPLiQjO",
        "outputId": "75bed831-fd9e-4ad6-b0ea-fcf5b331b640"
      },
      "execution_count": null,
      "outputs": [
        {
          "output_type": "execute_result",
          "data": {
            "text/plain": [
              "<enumerate at 0x78c4e39834c0>"
            ]
          },
          "metadata": {},
          "execution_count": 70
        }
      ]
    },
    {
      "cell_type": "code",
      "source": [
        "list(range(len(idades))) # Forcei a geração dos valores"
      ],
      "metadata": {
        "colab": {
          "base_uri": "https://localhost:8080/"
        },
        "id": "VqpIRJY2jSiC",
        "outputId": "0cafba23-213c-4325-deda-fc51b53e19ff"
      },
      "execution_count": null,
      "outputs": [
        {
          "output_type": "execute_result",
          "data": {
            "text/plain": [
              "[0, 1, 2, 3, 4, 5, 6, 7]"
            ]
          },
          "metadata": {},
          "execution_count": 71
        }
      ]
    },
    {
      "cell_type": "code",
      "source": [
        "list(enumerate(idades)) # Forcei a geração dos valores"
      ],
      "metadata": {
        "colab": {
          "base_uri": "https://localhost:8080/"
        },
        "id": "Uce2cPxnkEDP",
        "outputId": "b61609b9-aeb9-4a4f-c9d1-091ece2a62d6"
      },
      "execution_count": null,
      "outputs": [
        {
          "output_type": "execute_result",
          "data": {
            "text/plain": [
              "[(0, 15), (1, 87), (2, 32), (3, 65), (4, 56), (5, 32), (6, 49), (7, 37)]"
            ]
          },
          "metadata": {},
          "execution_count": 73
        }
      ]
    },
    {
      "cell_type": "code",
      "source": [
        "for indicie, idade in enumerate(idades):\n",
        "  print(indicie, idade)"
      ],
      "metadata": {
        "colab": {
          "base_uri": "https://localhost:8080/"
        },
        "id": "R80sq28ZnQFS",
        "outputId": "2b415e9e-faca-4b19-a80f-b40d092b0d8a"
      },
      "execution_count": null,
      "outputs": [
        {
          "output_type": "stream",
          "name": "stdout",
          "text": [
            "0 15\n",
            "1 87\n",
            "2 32\n",
            "3 65\n",
            "4 56\n",
            "5 32\n",
            "6 49\n",
            "7 37\n"
          ]
        }
      ]
    },
    {
      "cell_type": "code",
      "source": [
        "usuarios = [\n",
        "    (\"Guilherme\", 37, 1981),\n",
        "    (\"Daniela\", 31, 1987),\n",
        "    (\"Paulo\", 39, 1979)\n",
        "\n",
        "]\n",
        "for nome, idade, nascimento in usuarios:  # ja desempacotando, ignorando o resto\n",
        "  print(nome)"
      ],
      "metadata": {
        "colab": {
          "base_uri": "https://localhost:8080/"
        },
        "id": "uX3uEJSQopJb",
        "outputId": "ec476dfe-8dae-4357-d8cc-08d399d5a5d3"
      },
      "execution_count": null,
      "outputs": [
        {
          "output_type": "stream",
          "name": "stdout",
          "text": [
            "Guilherme\n",
            "Daniela\n",
            "Paulo\n"
          ]
        }
      ]
    },
    {
      "cell_type": "code",
      "source": [
        "for nome, _, _ in usuarios: # ja desempacotando, ignorando o resto\n",
        "  print(nome)"
      ],
      "metadata": {
        "colab": {
          "base_uri": "https://localhost:8080/"
        },
        "id": "EshA5LyJpdDQ",
        "outputId": "20b0c262-800b-4cb7-fce4-94b7e2c37e80"
      },
      "execution_count": null,
      "outputs": [
        {
          "output_type": "stream",
          "name": "stdout",
          "text": [
            "Guilherme\n",
            "Daniela\n",
            "Paulo\n"
          ]
        }
      ]
    },
    {
      "cell_type": "markdown",
      "source": [
        "# Ordenação básica"
      ],
      "metadata": {
        "id": "ri2DY9ygssU7"
      }
    },
    {
      "cell_type": "code",
      "source": [
        "idades = [15, 87, 32,  65, 56, 32, 49, 37]\n",
        "idades"
      ],
      "metadata": {
        "colab": {
          "base_uri": "https://localhost:8080/"
        },
        "id": "7eFm45JmgU36",
        "outputId": "b4ffb439-8c01-4924-f377-488558cf7075"
      },
      "execution_count": null,
      "outputs": [
        {
          "output_type": "execute_result",
          "data": {
            "text/plain": [
              "[15, 87, 32, 65, 56, 32, 49, 37]"
            ]
          },
          "metadata": {},
          "execution_count": 3
        }
      ]
    },
    {
      "cell_type": "code",
      "source": [
        "sorted(idades)"
      ],
      "metadata": {
        "colab": {
          "base_uri": "https://localhost:8080/"
        },
        "id": "4KP8bqSrg5iQ",
        "outputId": "4c513a41-597f-45a8-cc64-657206beca2b"
      },
      "execution_count": null,
      "outputs": [
        {
          "output_type": "execute_result",
          "data": {
            "text/plain": [
              "[15, 32, 32, 37, 49, 56, 65, 87]"
            ]
          },
          "metadata": {},
          "execution_count": 4
        }
      ]
    },
    {
      "cell_type": "code",
      "source": [
        "list(reversed(idades))"
      ],
      "metadata": {
        "colab": {
          "base_uri": "https://localhost:8080/"
        },
        "id": "Llt9ic8nhEpU",
        "outputId": "1487dcf8-fd4b-44ff-a722-43a0f5aa62a1"
      },
      "execution_count": null,
      "outputs": [
        {
          "output_type": "execute_result",
          "data": {
            "text/plain": [
              "[37, 49, 32, 56, 65, 32, 87, 15]"
            ]
          },
          "metadata": {},
          "execution_count": 5
        }
      ]
    },
    {
      "cell_type": "code",
      "source": [
        "sorted(idades, reverse=True)"
      ],
      "metadata": {
        "colab": {
          "base_uri": "https://localhost:8080/"
        },
        "id": "z0PRHxauhrhs",
        "outputId": "9964a503-879a-4c6b-93c8-dbe7b011fad0"
      },
      "execution_count": null,
      "outputs": [
        {
          "output_type": "execute_result",
          "data": {
            "text/plain": [
              "[87, 65, 56, 49, 37, 32, 32, 15]"
            ]
          },
          "metadata": {},
          "execution_count": 6
        }
      ]
    },
    {
      "cell_type": "code",
      "source": [
        "list(reversed(sorted(idades)))"
      ],
      "metadata": {
        "colab": {
          "base_uri": "https://localhost:8080/"
        },
        "id": "Fsch1F99iGjZ",
        "outputId": "4b3036e9-7f31-4e57-b31d-19b1b8167827"
      },
      "execution_count": null,
      "outputs": [
        {
          "output_type": "execute_result",
          "data": {
            "text/plain": [
              "[87, 65, 56, 49, 37, 32, 32, 15]"
            ]
          },
          "metadata": {},
          "execution_count": 7
        }
      ]
    },
    {
      "cell_type": "code",
      "source": [
        "idades.sort()"
      ],
      "metadata": {
        "id": "PSROKgtEigdV"
      },
      "execution_count": null,
      "outputs": []
    },
    {
      "cell_type": "code",
      "source": [
        "idades"
      ],
      "metadata": {
        "colab": {
          "base_uri": "https://localhost:8080/"
        },
        "id": "I388heIQijvT",
        "outputId": "ba4c8867-732e-4913-bd60-cfff38bd89d9"
      },
      "execution_count": null,
      "outputs": [
        {
          "output_type": "execute_result",
          "data": {
            "text/plain": [
              "[15, 32, 32, 37, 49, 56, 65, 87]"
            ]
          },
          "metadata": {},
          "execution_count": 9
        }
      ]
    },
    {
      "cell_type": "markdown",
      "source": [
        "# Ordenação customizada\n"
      ],
      "metadata": {
        "id": "pXA4oiutUytq"
      }
    },
    {
      "cell_type": "code",
      "source": [
        "15 < 32"
      ],
      "metadata": {
        "colab": {
          "base_uri": "https://localhost:8080/"
        },
        "id": "YSNnE375I5Lh",
        "outputId": "2cbae27b-35a0-4e8a-9547-6d7d4db287c2"
      },
      "execution_count": null,
      "outputs": [
        {
          "output_type": "execute_result",
          "data": {
            "text/plain": [
              "True"
            ]
          },
          "metadata": {},
          "execution_count": 11
        }
      ]
    },
    {
      "cell_type": "code",
      "source": [
        "nomes = [\"Guilherme\", \"Daniela\", \"Paulo\"]\n",
        "sorted(nomes)"
      ],
      "metadata": {
        "colab": {
          "base_uri": "https://localhost:8080/"
        },
        "id": "3ZVpHG_wI-vF",
        "outputId": "6a413a94-7005-445a-baa2-87aba0a7bde5"
      },
      "execution_count": null,
      "outputs": [
        {
          "output_type": "execute_result",
          "data": {
            "text/plain": [
              "['Daniela', 'Guilherme', 'Paulo']"
            ]
          },
          "metadata": {},
          "execution_count": 12
        }
      ]
    },
    {
      "cell_type": "code",
      "source": [
        "class ContaSalario:\n",
        "\n",
        "  def __init__(self, codigo):\n",
        "      self._codigo = codigo\n",
        "      self._saldo = 0\n",
        "\n",
        "  def deposita(self, valor):\n",
        "    self._saldo += valor\n",
        "\n",
        "  def __str__(self):\n",
        "     return \"[>>Codigo {} Saldo {}<<]\".format(self._codigo, self._saldo)\n",
        "\n",
        "  def __eq__(self, other):\n",
        "    if type(other) != ContaSalario:\n",
        "      False\n",
        "      return self.codigo == other.codigo and self.saldo == other.saldo\n",
        "\n",
        "\n",
        "  @property\n",
        "  def codigo(self):\n",
        "    return self._codigo\n",
        "\n",
        "  @property\n",
        "  def saldo(self):\n",
        "    return self._saldo"
      ],
      "metadata": {
        "id": "ExSQa_JIJO7r"
      },
      "execution_count": null,
      "outputs": []
    },
    {
      "cell_type": "code",
      "source": [
        "conta_do_guilherme = ContaSalario(17)\n",
        "conta_do_guilherme.deposita(500)\n",
        "\n",
        "conta_da_daniela = ContaSalario(3)\n",
        "conta_da_daniela.deposita(1000)\n",
        "\n",
        "conta_do_paulo = ContaSalario(133)\n",
        "conta_do_paulo.deposita(510)\n",
        "\n",
        "contas = [conta_do_guilherme, conta_da_daniela, conta_do_paulo]"
      ],
      "metadata": {
        "id": "b8wVnPXDKiyl"
      },
      "execution_count": null,
      "outputs": []
    },
    {
      "cell_type": "code",
      "source": [
        "for conta in contas:\n",
        "  print(conta)"
      ],
      "metadata": {
        "colab": {
          "base_uri": "https://localhost:8080/"
        },
        "id": "LSfp9hupKlqV",
        "outputId": "fa76aaab-5696-4791-e64e-16347b80e95f"
      },
      "execution_count": null,
      "outputs": [
        {
          "output_type": "stream",
          "name": "stdout",
          "text": [
            "[>>Codigo 17 Saldo 500<<]\n",
            "[>>Codigo 3 Saldo 1000<<]\n",
            "[>>Codigo 133 Saldo 510<<]\n"
          ]
        }
      ]
    },
    {
      "cell_type": "code",
      "source": [
        "def extrai_saldo(conta):\n",
        "  return conta.saldo\n",
        "\n",
        "for conta in sorted(contas, key=extrai_saldo):\n",
        "  print(conta)"
      ],
      "metadata": {
        "colab": {
          "base_uri": "https://localhost:8080/"
        },
        "id": "ts6_MeJ6LTDL",
        "outputId": "4c5ebbb2-db5d-425a-b45c-145b4c97df10"
      },
      "execution_count": null,
      "outputs": [
        {
          "output_type": "stream",
          "name": "stdout",
          "text": [
            "[>>Codigo 17 Saldo 500<<]\n",
            "[>>Codigo 133 Saldo 510<<]\n",
            "[>>Codigo 3 Saldo 1000<<]\n"
          ]
        }
      ]
    },
    {
      "cell_type": "code",
      "source": [
        "from operator import attrgetter\n",
        "\n",
        "for conta in sorted(contas, key=attrgetter(\"saldo\")):\n",
        "  print(conta)"
      ],
      "metadata": {
        "colab": {
          "base_uri": "https://localhost:8080/"
        },
        "id": "-Tsmy6vQT76q",
        "outputId": "81722a45-405a-47c1-b08a-59dfb27bb400"
      },
      "execution_count": null,
      "outputs": [
        {
          "output_type": "stream",
          "name": "stdout",
          "text": [
            "[>>Codigo 17 Saldo 500<<]\n",
            "[>>Codigo 133 Saldo 500<<]\n",
            "[>>Codigo 3 Saldo 1000<<]\n"
          ]
        }
      ]
    },
    {
      "cell_type": "code",
      "source": [
        "conta_do_guilherme > conta_da_daniela"
      ],
      "metadata": {
        "colab": {
          "base_uri": "https://localhost:8080/",
          "height": 141
        },
        "id": "f9eriu2smS8s",
        "outputId": "dafea22b-5ef8-42c5-d74f-1c8d7e512694"
      },
      "execution_count": null,
      "outputs": [
        {
          "output_type": "error",
          "ename": "TypeError",
          "evalue": "'>' not supported between instances of 'ContaSalario' and 'ContaSalario'",
          "traceback": [
            "\u001b[0;31m---------------------------------------------------------------------------\u001b[0m",
            "\u001b[0;31mTypeError\u001b[0m                                 Traceback (most recent call last)",
            "\u001b[0;32m<ipython-input-32-31cd03366d5f>\u001b[0m in \u001b[0;36m<cell line: 1>\u001b[0;34m()\u001b[0m\n\u001b[0;32m----> 1\u001b[0;31m \u001b[0mconta_do_guilherme\u001b[0m \u001b[0;34m>\u001b[0m \u001b[0mconta_da_daniela\u001b[0m\u001b[0;34m\u001b[0m\u001b[0;34m\u001b[0m\u001b[0m\n\u001b[0m",
            "\u001b[0;31mTypeError\u001b[0m: '>' not supported between instances of 'ContaSalario' and 'ContaSalario'"
          ]
        }
      ]
    },
    {
      "cell_type": "code",
      "source": [
        "class ContaSalario:\n",
        "\n",
        "  def __init__(self, codigo):\n",
        "      self._codigo = codigo\n",
        "      self._saldo = 0\n",
        "\n",
        "  def deposita(self, valor):\n",
        "    self._saldo += valor\n",
        "\n",
        "  def __str__(self):\n",
        "     return \"[>>Codigo {} Saldo {}<<]\".format(self._codigo, self._saldo)\n",
        "\n",
        "  def __eq__(self, other):\n",
        "    if type(other) != ContaSalario:\n",
        "      False\n",
        "      return self.codigo == other.codigo and self.saldo == other.saldo\n",
        "\n",
        "  def __lt__(self, other):\n",
        "    return self.saldo < other.saldo\n",
        "\n",
        "  @property\n",
        "  def codigo(self):\n",
        "    return self._codigo\n",
        "\n",
        "  @property\n",
        "  def saldo(self):\n",
        "    return self._saldo"
      ],
      "metadata": {
        "id": "hZJtUJU8mjLK"
      },
      "execution_count": null,
      "outputs": []
    },
    {
      "cell_type": "code",
      "source": [
        "conta_do_guilherme = ContaSalario(17)\n",
        "conta_do_guilherme.deposita(500)\n",
        "\n",
        "conta_da_daniela = ContaSalario(3)\n",
        "conta_da_daniela.deposita(1000)\n",
        "\n",
        "conta_do_paulo = ContaSalario(133)\n",
        "conta_do_paulo.deposita(510)\n",
        "\n",
        "contas = [conta_do_guilherme, conta_da_daniela, conta_do_paulo]"
      ],
      "metadata": {
        "id": "lvaz9Gu0nPBt"
      },
      "execution_count": null,
      "outputs": []
    },
    {
      "cell_type": "code",
      "source": [
        "conta_do_guilherme < conta_da_daniela"
      ],
      "metadata": {
        "colab": {
          "base_uri": "https://localhost:8080/"
        },
        "id": "84zVNEy-ncGx",
        "outputId": "a905be88-ea05-41e2-904f-78f37335d7b4"
      },
      "execution_count": null,
      "outputs": [
        {
          "output_type": "execute_result",
          "data": {
            "text/plain": [
              "True"
            ]
          },
          "metadata": {},
          "execution_count": 38
        }
      ]
    },
    {
      "cell_type": "code",
      "source": [
        "conta_do_guilherme > conta_da_daniela"
      ],
      "metadata": {
        "colab": {
          "base_uri": "https://localhost:8080/"
        },
        "id": "XZY2RTseoD3D",
        "outputId": "198be5fd-2010-4f23-8d3b-f02c2b71d455"
      },
      "execution_count": null,
      "outputs": [
        {
          "output_type": "execute_result",
          "data": {
            "text/plain": [
              "False"
            ]
          },
          "metadata": {},
          "execution_count": 39
        }
      ]
    },
    {
      "cell_type": "code",
      "source": [
        "for conta in sorted(contas):\n",
        "  print(conta)"
      ],
      "metadata": {
        "colab": {
          "base_uri": "https://localhost:8080/"
        },
        "id": "5fsJWPieoPB0",
        "outputId": "d45bb7da-2881-424e-e325-8358b052ecd8"
      },
      "execution_count": null,
      "outputs": [
        {
          "output_type": "stream",
          "name": "stdout",
          "text": [
            "[>>Codigo 17 Saldo 500<<]\n",
            "[>>Codigo 133 Saldo 510<<]\n",
            "[>>Codigo 3 Saldo 1000<<]\n"
          ]
        }
      ]
    },
    {
      "cell_type": "markdown",
      "source": [
        "#Ordenação total"
      ],
      "metadata": {
        "id": "vQyje2tiO-7K"
      }
    },
    {
      "cell_type": "code",
      "source": [
        "conta_do_guilherme = ContaSalario(1700)\n",
        "conta_do_guilherme.deposita(500)\n",
        "\n",
        "conta_da_daniela = ContaSalario(3)\n",
        "conta_da_daniela.deposita(1500)\n",
        "\n",
        "conta_do_paulo = ContaSalario(133)\n",
        "conta_do_paulo.deposita(500)\n",
        "\n",
        "contas = [conta_do_guilherme, conta_da_daniela, conta_do_paulo]\n"
      ],
      "metadata": {
        "id": "IBEC3kJkO3xr"
      },
      "execution_count": null,
      "outputs": []
    },
    {
      "cell_type": "code",
      "source": [
        "for conta in sorted(contas, key=attrgetter(\"saldo\", \"codigo\")):\n",
        "  print(conta)"
      ],
      "metadata": {
        "colab": {
          "base_uri": "https://localhost:8080/"
        },
        "id": "9IziqSq8PEdy",
        "outputId": "c5a7a5ac-e45f-4af5-f1ba-a3a5508aeacc"
      },
      "execution_count": null,
      "outputs": [
        {
          "output_type": "stream",
          "name": "stdout",
          "text": [
            "[>>Codigo 133 Saldo 500<<]\n",
            "[>>Codigo 1700 Saldo 500<<]\n",
            "[>>Codigo 3 Saldo 1500<<]\n"
          ]
        }
      ]
    },
    {
      "cell_type": "code",
      "source": [
        "class ContaSalario:\n",
        "\n",
        "  def __init__(self, codigo):\n",
        "      self._codigo = codigo\n",
        "      self._saldo = 0\n",
        "\n",
        "  def deposita(self, valor):\n",
        "    self._saldo += valor\n",
        "\n",
        "  def __str__(self):\n",
        "     return \"[>>Codigo {} Saldo {}<<]\".format(self._codigo, self._saldo)\n",
        "\n",
        "  def __eq__(self, other):\n",
        "    if type(other) != ContaSalario:\n",
        "      False\n",
        "      return self._codigo == other._codigo and self._saldo == other._saldo\n",
        "\n",
        "  def __lt__(self, other):\n",
        "    if self.saldo != other.saldo:\n",
        "      return self._saldo < other._saldo\n",
        "    return self._codigo < other._codigo\n",
        "\n",
        "  @property\n",
        "  def codigo(self):\n",
        "    return self._codigo\n",
        "\n",
        "  @property\n",
        "  def saldo(self):\n",
        "    return self._saldo"
      ],
      "metadata": {
        "id": "BPr_xM-nQMzE"
      },
      "execution_count": null,
      "outputs": []
    },
    {
      "cell_type": "code",
      "source": [
        "conta_do_guilherme = ContaSalario(1700)\n",
        "conta_do_guilherme.deposita(500)\n",
        "\n",
        "conta_da_daniela = ContaSalario(3)\n",
        "conta_da_daniela.deposita(500)\n",
        "\n",
        "conta_do_paulo = ContaSalario(133)\n",
        "conta_do_paulo.deposita(500)\n",
        "\n",
        "contas = [conta_do_guilherme, conta_da_daniela, conta_do_paulo]"
      ],
      "metadata": {
        "id": "JjvPnh3aQ_Fa"
      },
      "execution_count": null,
      "outputs": []
    },
    {
      "cell_type": "code",
      "source": [
        "for conta in sorted(contas):\n",
        "  print(conta)"
      ],
      "metadata": {
        "colab": {
          "base_uri": "https://localhost:8080/"
        },
        "id": "HKtbgT-NREB8",
        "outputId": "5a11a2b7-8832-425f-e958-219c4af92ec8"
      },
      "execution_count": null,
      "outputs": [
        {
          "output_type": "stream",
          "name": "stdout",
          "text": [
            "[>>Codigo 3 Saldo 500<<]\n",
            "[>>Codigo 133 Saldo 500<<]\n",
            "[>>Codigo 1700 Saldo 500<<]\n"
          ]
        }
      ]
    },
    {
      "cell_type": "code",
      "source": [
        "conta_do_guilherme = ContaSalario(1700)\n",
        "conta_do_guilherme.deposita(500)\n",
        "\n",
        "conta_da_daniela = ContaSalario(3)\n",
        "conta_da_daniela.deposita(1000)\n",
        "\n",
        "conta_do_paulo = ContaSalario(133)\n",
        "conta_do_paulo.deposita(500)\n",
        "\n",
        "contas = [conta_do_guilherme, conta_da_daniela, conta_do_paulo]"
      ],
      "metadata": {
        "id": "MNGL29UXR9W7"
      },
      "execution_count": null,
      "outputs": []
    },
    {
      "cell_type": "code",
      "source": [
        "for conta in sorted(contas):\n",
        "  print(conta)"
      ],
      "metadata": {
        "colab": {
          "base_uri": "https://localhost:8080/"
        },
        "id": "QXu-aiOWR_jw",
        "outputId": "861b7a1e-23df-49af-d03a-558d20cdf928"
      },
      "execution_count": null,
      "outputs": [
        {
          "output_type": "stream",
          "name": "stdout",
          "text": [
            "[>>Codigo 133 Saldo 500<<]\n",
            "[>>Codigo 1700 Saldo 500<<]\n",
            "[>>Codigo 3 Saldo 1000<<]\n"
          ]
        }
      ]
    },
    {
      "cell_type": "code",
      "source": [
        "conta_do_guilherme < conta_da_daniela"
      ],
      "metadata": {
        "colab": {
          "base_uri": "https://localhost:8080/"
        },
        "id": "AZDLDs21SdzM",
        "outputId": "8b9c62fb-1878-49fc-da46-cfe0e7013340"
      },
      "execution_count": null,
      "outputs": [
        {
          "output_type": "execute_result",
          "data": {
            "text/plain": [
              "True"
            ]
          },
          "metadata": {},
          "execution_count": 33
        }
      ]
    },
    {
      "cell_type": "code",
      "source": [
        "conta_do_guilherme <= conta_da_daniela"
      ],
      "metadata": {
        "colab": {
          "base_uri": "https://localhost:8080/",
          "height": 141
        },
        "id": "pxSXcs9SSnj6",
        "outputId": "63d81da3-587d-40d5-e5d5-425cdcdeec8a"
      },
      "execution_count": null,
      "outputs": [
        {
          "output_type": "error",
          "ename": "TypeError",
          "evalue": "'<=' not supported between instances of 'ContaSalario' and 'ContaSalario'",
          "traceback": [
            "\u001b[0;31m---------------------------------------------------------------------------\u001b[0m",
            "\u001b[0;31mTypeError\u001b[0m                                 Traceback (most recent call last)",
            "\u001b[0;32m<ipython-input-34-5f6d4259fd98>\u001b[0m in \u001b[0;36m<cell line: 1>\u001b[0;34m()\u001b[0m\n\u001b[0;32m----> 1\u001b[0;31m \u001b[0mconta_do_guilherme\u001b[0m \u001b[0;34m<=\u001b[0m \u001b[0mconta_da_daniela\u001b[0m\u001b[0;34m\u001b[0m\u001b[0;34m\u001b[0m\u001b[0m\n\u001b[0m",
            "\u001b[0;31mTypeError\u001b[0m: '<=' not supported between instances of 'ContaSalario' and 'ContaSalario'"
          ]
        }
      ]
    },
    {
      "cell_type": "code",
      "source": [
        "from functools import total_ordering\n",
        "\n",
        "@total_ordering\n",
        "class ContaSalario:\n",
        "\n",
        "  def __init__(self, codigo):\n",
        "      self._codigo = codigo\n",
        "      self._saldo = 0\n",
        "\n",
        "  def deposita(self, valor):\n",
        "    self._saldo += valor\n",
        "\n",
        "  def __str__(self):\n",
        "     return \"[>>Codigo {} Saldo {}<<]\".format(self._codigo, self._saldo)\n",
        "\n",
        "  def __eq__(self, other):\n",
        "    if type(other) != ContaSalario:\n",
        "      False\n",
        "      return self._codigo == other._codigo and self._saldo == other._saldo\n",
        "\n",
        "  def __lt__(self, other):\n",
        "    if self.saldo != other.saldo:\n",
        "      return self._saldo < other._saldo\n",
        "    return self._codigo < other._codigo\n",
        "\n",
        "  @property\n",
        "  def codigo(self):\n",
        "    return self._codigo\n",
        "\n",
        "  @property\n",
        "  def saldo(self):\n",
        "    return self._saldo"
      ],
      "metadata": {
        "id": "ieA3PESwTSmz"
      },
      "execution_count": null,
      "outputs": []
    },
    {
      "cell_type": "code",
      "source": [
        "conta_do_guilherme = ContaSalario(1700)\n",
        "conta_do_guilherme.deposita(500)\n",
        "\n",
        "conta_da_daniela = ContaSalario(3)\n",
        "conta_da_daniela.deposita(1000)\n",
        "\n",
        "conta_do_paulo = ContaSalario(133)\n",
        "conta_do_paulo.deposita(500)\n",
        "\n",
        "contas = [conta_do_guilherme, conta_da_daniela, conta_do_paulo]"
      ],
      "metadata": {
        "id": "Z5Qy-HTvTiJo"
      },
      "execution_count": null,
      "outputs": []
    },
    {
      "cell_type": "code",
      "source": [
        "conta_do_guilherme <= conta_da_daniela"
      ],
      "metadata": {
        "id": "b69JCEfzToJq",
        "outputId": "3c222cfa-00d0-4b1b-a383-4935091bc07c",
        "colab": {
          "base_uri": "https://localhost:8080/"
        }
      },
      "execution_count": null,
      "outputs": [
        {
          "output_type": "execute_result",
          "data": {
            "text/plain": [
              "True"
            ]
          },
          "metadata": {},
          "execution_count": 37
        }
      ]
    }
  ]
}