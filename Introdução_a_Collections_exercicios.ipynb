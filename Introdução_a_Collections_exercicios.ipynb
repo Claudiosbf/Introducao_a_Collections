{
  "nbformat": 4,
  "nbformat_minor": 0,
  "metadata": {
    "colab": {
      "provenance": [],
      "collapsed_sections": [
        "CHKTIGSDixeC",
        "fGK7wzdlKKSb",
        "OCjgR7R728i9",
        "65YMvmYf8S9Z",
        "frx5xL_iAee2",
        "OTO9l4cHNwU3"
      ]
    },
    "kernelspec": {
      "name": "python3",
      "display_name": "Python 3"
    },
    "language_info": {
      "name": "python"
    }
  },
  "cells": [
    {
      "cell_type": "markdown",
      "source": [
        "#Separando numeros pares e impares"
      ],
      "metadata": {
        "id": "7Rxv_30VuUEC"
      }
    },
    {
      "cell_type": "code",
      "source": [
        "lista_original = [1, 2, 3, 4, 5, 6]\n",
        "pares = [numeros for numeros in lista_original if numeros %2 == 0]\n",
        "impares = [numeros for numeros in lista_original if numeros %2 != 0]\n",
        "print(pares)\n",
        "print(impares)"
      ],
      "metadata": {
        "colab": {
          "base_uri": "https://localhost:8080/"
        },
        "id": "NqnCRqckjM8O",
        "outputId": "5bb74bd1-9797-4d85-b942-c51a52ee3d2a"
      },
      "execution_count": null,
      "outputs": [
        {
          "output_type": "stream",
          "name": "stdout",
          "text": [
            "[2, 4, 6]\n",
            "[1, 3, 5]\n"
          ]
        }
      ]
    },
    {
      "cell_type": "markdown",
      "source": [
        "# Encontrando a conta com o maior saldo"
      ],
      "metadata": {
        "id": "CHKTIGSDixeC"
      }
    },
    {
      "cell_type": "code",
      "execution_count": null,
      "metadata": {
        "colab": {
          "base_uri": "https://localhost:8080/"
        },
        "id": "lBsfgWnpik4V",
        "outputId": "8554e989-4ed6-4fc0-c2df-35921998e26c"
      },
      "outputs": [
        {
          "output_type": "stream",
          "name": "stdout",
          "text": [
            "(20, 1500)\n"
          ]
        }
      ],
      "source": [
        "contas = [(15, 1000), (20, 1500), (10, 500)]\n",
        "\n",
        "def maior_saldo(contas):\n",
        "      maior = max(contas, key=lambda x: x[1])\n",
        "      return maior\n",
        "\n",
        "print(maior_saldo(contas))"
      ]
    },
    {
      "cell_type": "markdown",
      "source": [
        "# Lista de Alunos"
      ],
      "metadata": {
        "id": "Wgk7Z3WmoaMe"
      }
    },
    {
      "cell_type": "code",
      "source": [
        "alunos = [(\"Luiz\", 12, 2000), (\"Kleber\", 11, 2001), (\"Maria\", 11, 2001)]\n",
        "\n",
        "def buscar_aluno(alunos):\n",
        "  for aluno in alunos:\n",
        "    nome = 'Luiz'\n",
        "    if nome == aluno[0]:\n",
        "      return aluno\n",
        "\n",
        "print(\"Aluno:\", buscar_aluno(alunos))\n",
        "\n",
        "for aluno in alunos:\n",
        "    print(aluno)\n"
      ],
      "metadata": {
        "colab": {
          "base_uri": "https://localhost:8080/"
        },
        "id": "YJRhxgv7oZc4",
        "outputId": "449119f7-6e0c-4973-8e0b-1d6567e5cd48"
      },
      "execution_count": null,
      "outputs": [
        {
          "output_type": "stream",
          "name": "stdout",
          "text": [
            "Aluno: ('Luiz', 12, 2000)\n",
            "('Luiz', 12, 2000)\n",
            "('Kleber', 11, 2001)\n",
            "('Maria', 11, 2001)\n",
            "('Luiz', 13, 2000)\n"
          ]
        }
      ]
    },
    {
      "cell_type": "markdown",
      "source": [
        "#um exercício que envolva a manipulação de tuplas e listas juntas? Vamos lá:\n",
        "\n",
        "Dado o seguinte código:\n",
        "\n",
        "ini\n",
        "pessoas = [(\"João\", 25), (\"Maria\", 30), (\"Pedro\", 20), (\"Ana\", 27)]\n",
        "idades = [25, 30, 20, 27]\n",
        "\n",
        "\n",
        "Crie uma nova lista chamada \"nomes\" que contenha apenas os nomes das pessoas.\n",
        "Crie uma nova tupla chamada \"idades_unicas\" que contenha apenas as idades únicas das pessoas, ou seja, sem repetições.\n",
        "Crie uma nova lista chamada \"pessoas_maior_25\" que contenha apenas as pessoas com idade maior que 25.\n",
        "Tente resolver esse exercício e me avise quando terminar ou se precisar de alguma dica!"
      ],
      "metadata": {
        "id": "iYV-50gbvDN7"
      }
    },
    {
      "cell_type": "code",
      "source": [
        "pessoas = [(\"João\", 25), (\"Maria\", 30), (\"Pedro\", 20), (\"Ana\", 27)]\n",
        "nomes = [nome[0] for nome in pessoas]\n",
        "idades = [idade[1] for idade in pessoas]\n",
        "pessoas_maior_25 = [maior25 for maior25 in pessoas if maior25[1] > 25]\n",
        "#idades = [25, 30, 20, 27]\n",
        "print(nomes)\n",
        "print(idades)\n",
        "print(pessoas_maior_25)"
      ],
      "metadata": {
        "colab": {
          "base_uri": "https://localhost:8080/"
        },
        "id": "lEO_oSP7vKhV",
        "outputId": "e97e8a18-f057-4585-8873-2d02def173e9"
      },
      "execution_count": null,
      "outputs": [
        {
          "output_type": "stream",
          "name": "stdout",
          "text": [
            "['João', 'Maria', 'Pedro', 'Ana']\n",
            "[25, 30, 20, 27]\n",
            "[('Maria', 30), ('Ana', 27)]\n"
          ]
        }
      ]
    },
    {
      "cell_type": "markdown",
      "source": [
        "#Herança e Polimorfismo\n",
        "\n",
        "\n",
        "Crie uma nova classe chamada \"ContaInvestimento\" que também herda da classe \"Conta\". Essa classe deve ter um método chamado \"passa_o_mes\" que multiplica o saldo por 1.05 e subtrai 5. Em seguida, crie uma instância dessa classe, deposite um valor inicial de 2000 e chame o método \"passa_o_mes\". Por fim, imprima o saldo atual da conta.\n",
        "\n",
        "Lembre-se de utilizar os conceitos de herança e polimorfismo vistos na aula. Se tiver alguma dúvida, estou aqui para ajudar!\n",
        "\n",
        "Copiar texto da Luri para área de transferêcia\n"
      ],
      "metadata": {
        "id": "fGK7wzdlKKSb"
      }
    },
    {
      "cell_type": "code",
      "source": [
        "class Conta:\n",
        "  def __init__(self, codigo):\n",
        "    self._codigo = codigo\n",
        "    self._saldo = 0\n",
        "\n",
        "  def deposita(self, valor):\n",
        "    self._saldo += valor\n",
        "\n",
        "\n",
        "  @property\n",
        "  def codigo(self):\n",
        "    return self._codigo\n",
        "\n",
        "  @property\n",
        "  def saldo(self):\n",
        "    return self._saldo\n",
        "\n",
        "  def __str__(self):\n",
        "    return \"[>>codigo {} saldo {}<<]\".format(self.codigo, self.saldo)"
      ],
      "metadata": {
        "id": "cjUmXw_3KD6i"
      },
      "execution_count": null,
      "outputs": []
    },
    {
      "cell_type": "code",
      "source": [
        "class ContaCorrente(Conta):\n",
        "  def proximo_mes(self):\n",
        "    self._saldo -= 2\n",
        "\n",
        "class ContaPoupansa(Conta):\n",
        "  def proximo_mes(self):\n",
        "    self._saldo *= 1.01\n",
        "    self._saldo -= 3\n",
        "    self._saldo = round(self._saldo, 2)\n",
        "\n",
        "class ContaInvestimento(Conta):\n",
        "  def proximo_mes(self):\n",
        "    self._saldo *= 1.05\n",
        "    self._saldo -= 5\n",
        "    self._saldo = round(self._saldo, 2)"
      ],
      "metadata": {
        "id": "Kzd9kseFiKFH"
      },
      "execution_count": null,
      "outputs": []
    },
    {
      "cell_type": "code",
      "source": [
        "conta_investimento = ContaInvestimento(18)\n",
        "conta_investimento.deposita(2000)\n",
        "conta_investimento.proximo_mes()\n",
        "print(conta_investimento)"
      ],
      "metadata": {
        "colab": {
          "base_uri": "https://localhost:8080/"
        },
        "id": "6MLN7VoDk5p9",
        "outputId": "81875b6d-843a-4e61-e0da-fdd72b2e7601"
      },
      "execution_count": null,
      "outputs": [
        {
          "output_type": "stream",
          "name": "stdout",
          "text": [
            "[>>codigo 18 saldo 2095.0<<]\n"
          ]
        }
      ]
    },
    {
      "cell_type": "markdown",
      "source": [
        "#ContaSalario\n",
        "\n",
        "Crie uma classe chamada \"ContaSalario\" que herde da classe \"Conta\". Essa classe deve ter um método chamado \"passa_o_mes()\" que, ao ser chamado, deve subtrair 5 do saldo da conta. Além disso, crie uma instância da classe \"ContaSalario\" e teste o método \"proximo_mes()\"."
      ],
      "metadata": {
        "id": "OCjgR7R728i9"
      }
    },
    {
      "cell_type": "code",
      "source": [
        "from abc import ABCMeta, abstractmethod\n",
        "class Conta(metaclass=ABCMeta):\n",
        "  def __init__(self, codigo):\n",
        "    self._codigo = codigo\n",
        "    self._saldo = 0\n",
        "\n",
        "  def deposita(self, valor):\n",
        "    self._saldo += valor\n",
        "\n",
        "  @abstractmethod\n",
        "  def proximo_mes(self):\n",
        "    pass\n",
        "  @property\n",
        "  def codigo(self):\n",
        "    return self._codigo\n",
        "\n",
        "  @property\n",
        "  def saldo(self):\n",
        "    return self._saldo\n",
        "\n",
        "  def __str__(self):\n",
        "    return \"[>>codigo {} saldo {}<<]\".format(self.codigo, self.saldo)"
      ],
      "metadata": {
        "id": "1z063_UH31XY"
      },
      "execution_count": null,
      "outputs": []
    },
    {
      "cell_type": "code",
      "source": [
        "class ContaCorrente(Conta):\n",
        "  def proximo_mes(self):\n",
        "    self._saldo -= 2\n",
        "\n",
        "class ContaPoupansa(Conta):\n",
        "  def proximo_mes(self):\n",
        "    self._saldo *= 1.01\n",
        "    self._saldo -= 3\n",
        "    self._saldo = round(self._saldo, 2)\n",
        "\n",
        "class ContaInvestimento(Conta):\n",
        "  def proximo_mes(self):\n",
        "    self._saldo *= 1.05\n",
        "    self._saldo -= 5\n",
        "    self._saldo = round(self._saldo, 2)\n",
        "\n",
        "class ContaSalario(Conta):\n",
        "  def proximo_mes(self):\n",
        "    self._saldo -= 5"
      ],
      "metadata": {
        "id": "aFRHfUhz4NgS"
      },
      "execution_count": null,
      "outputs": []
    },
    {
      "cell_type": "code",
      "source": [
        "conta18 = ContaSalario(18)\n",
        "conta18.deposita(10)\n",
        "conta18.proximo_mes()\n",
        "\n",
        "print(conta18)"
      ],
      "metadata": {
        "colab": {
          "base_uri": "https://localhost:8080/"
        },
        "id": "oQjUDVQe4S4i",
        "outputId": "e70c9c81-0cc8-4ee7-ec8d-96648947284e"
      },
      "execution_count": null,
      "outputs": [
        {
          "output_type": "stream",
          "name": "stdout",
          "text": [
            "[>>codigo 18 saldo 5<<]\n"
          ]
        }
      ]
    },
    {
      "cell_type": "markdown",
      "source": [
        "#Numero Media\n",
        "Um exercício mais avançado que você pode tentar é implementar uma função em Python que recebe uma lista de números e retorna a média aritmética desses números. Você pode começar criando a função e, em seguida, utilizando um loop para percorrer a lista e somar todos os números. Por fim, divida a soma pelo tamanho da lista para obter a média. Lembre-se de tratar o caso em que a lista está vazia. Dessa forma, você poderá praticar o uso de funções, loops e manipulação de listas. Boa sorte!"
      ],
      "metadata": {
        "id": "65YMvmYf8S9Z"
      }
    },
    {
      "cell_type": "code",
      "source": [
        "numeros = [10, 15, 20, 25, 30, 35, 40, 45, 50]\n",
        "media = sum(numeros) / len(numeros)\n",
        "print(media)"
      ],
      "metadata": {
        "id": "0ucFMgti8VXU",
        "colab": {
          "base_uri": "https://localhost:8080/"
        },
        "outputId": "a447ad9f-a434-459e-f900-b9f4215369ef"
      },
      "execution_count": null,
      "outputs": [
        {
          "output_type": "stream",
          "name": "stdout",
          "text": [
            "30.0\n"
          ]
        }
      ]
    },
    {
      "cell_type": "markdown",
      "source": [
        "#Lista de Produtos\n",
        "\n",
        "\n",
        "Crie uma classe chamada Produto que represente um produto em uma loja. A classe deve ter os seguintes atributos: codigo (inteiro), nome (string) e preco (float).\n",
        "\n",
        "Em seguida, crie uma lista chamada produtos e adicione alguns objetos da classe Produto nessa lista.\n",
        "\n",
        "Agora, implemente o método __eq__ na classe Produto para que a comparação entre dois produtos seja feita com base no código do produto.\n",
        "\n",
        "Por fim, crie uma função chamada buscar_produto que receba como parâmetro um código de produto e retorne o objeto Produto correspondente, caso ele exista na lista de produtos. Caso contrário, a função deve retornar None.\n",
        "\n",
        "Esse exercício irá te ajudar a praticar a criação de classes, implementação de métodos e comparação entre objetos. Além disso, você irá exercitar a utilização de listas e a busca de elementos dentro delas."
      ],
      "metadata": {
        "id": "iCAeFbZAgkoT"
      }
    },
    {
      "cell_type": "code",
      "source": [
        "class Produto:\n",
        "  def __init__(self, nome, preco):\n",
        "    self._nome = nome\n",
        "    self._preco = preco\n",
        "\n",
        "  def __str__(self):\n",
        "    return 'Produto: {} Preço: {}'.format(self.nome, self.preco)\n",
        "\n",
        "  def __eq__(self, other):\n",
        "    return self.nome == other.nome and self.preco == other.preco\n",
        "\n",
        "  @property\n",
        "  def nome(self):\n",
        "    return self._nome\n",
        "\n",
        "  @property\n",
        "  def preco(self):\n",
        "    return self._preco\n"
      ],
      "metadata": {
        "id": "v81rXdutxmKX"
      },
      "execution_count": null,
      "outputs": []
    },
    {
      "cell_type": "code",
      "source": [
        "arroz = Produto(\"Arroz\", 37.0)\n",
        "feijao = Produto(\"Feijão\", 20.0)\n",
        "batata = Produto(\"Batata\", 17.9)\n",
        "\n",
        "lista_compras =[arroz, feijao, batata]\n",
        "def buscar_produto(nome_produto):\n",
        "    for produto in lista_compras:\n",
        "      if produto.nome == nome_produto.title():\n",
        "        return produto\n",
        "\n",
        "print(buscar_produto(\"Batata\"))"
      ],
      "metadata": {
        "colab": {
          "base_uri": "https://localhost:8080/"
        },
        "id": "lM_Zfd0Dzwcb",
        "outputId": "2ba291aa-1300-403d-d882-fcb7ea0c3e7d"
      },
      "execution_count": null,
      "outputs": [
        {
          "output_type": "stream",
          "name": "stdout",
          "text": [
            "Produto: Batata Preço: 17.9\n"
          ]
        }
      ]
    },
    {
      "cell_type": "markdown",
      "source": [
        "#Lista de livros\n",
        "\n",
        "Imagine que você está desenvolvendo um sistema de gerenciamento de uma biblioteca. Nesse sistema, você precisa implementar a classe \"Livro\" com os seguintes atributos: título, autor e ano de publicação.\n",
        "\n",
        "Agora, você precisa implementar o método \"eq\" na classe \"Livro\" de forma que dois livros sejam considerados iguais se tiverem o mesmo título e autor.\n",
        "\n",
        "Além disso, crie uma lista de livros e verifique se um determinado livro está contido nessa lista utilizando o operador \"in\".\n",
        "\n",
        "Dica: Utilize o método \"str\" para retornar uma representação em string do livro.\n",
        "\n",
        "Agora é com você! Tente implementar essa funcionalidade e me avise se precisar de alguma ajuda."
      ],
      "metadata": {
        "id": "frx5xL_iAee2"
      }
    },
    {
      "cell_type": "code",
      "source": [
        "class Livro:\n",
        "  def __init__(self, titulo, autor, ano):\n",
        "    self._titulo = titulo\n",
        "    self._autor = autor\n",
        "    self._ano = ano\n",
        "\n",
        "  def __str__(self):\n",
        "    return 'Livro: {} - Autor: {} - Ano: {}'.format(self.titulo, self.autor, self.ano)\n",
        "\n",
        "  def __eq__(self, other):\n",
        "    return self.titulo == other.titulo and self.autor == other.autor and self.ano == other.ano\n",
        "\n",
        "  @property\n",
        "  def titulo(self):\n",
        "    return self._titulo\n",
        "\n",
        "  @property\n",
        "  def autor(self):\n",
        "     return self._autor\n",
        "\n",
        "  @property\n",
        "  def ano(self):\n",
        "    return self._ano\n"
      ],
      "metadata": {
        "id": "Nc0eRZkgAkNO"
      },
      "execution_count": null,
      "outputs": []
    },
    {
      "cell_type": "code",
      "source": [
        "livro1 = Livro(titulo=\"Harry Potter\", autor=\"J.K. Rowling\", ano=1997)\n",
        "livro2 = Livro(titulo=\"Dom Casmurro\", autor=\"Machado de Assis\", ano=1899)\n",
        "livro3 = Livro(titulo=\"1984\", autor=\"George Orwell\", ano=1949)\n",
        "\n",
        "livros = [livro1, livro2, livro3]\n",
        "def buscar_livro(nome_livro):\n",
        "  for livro in livros:\n",
        "    if livro.titulo == nome_livro.title():\n",
        "      return livro\n",
        "\n",
        "print(buscar_livro(\"harry potter\"))\n"
      ],
      "metadata": {
        "colab": {
          "base_uri": "https://localhost:8080/"
        },
        "id": "x5eHJ9bZCNTD",
        "outputId": "dabdd74a-84e3-4ff4-f6fb-72c9a3ecbb6c"
      },
      "execution_count": null,
      "outputs": [
        {
          "output_type": "stream",
          "name": "stdout",
          "text": [
            "Livro: Harry Potter - Autor: J.K. Rowling - Ano: 1997\n"
          ]
        }
      ]
    },
    {
      "cell_type": "markdown",
      "source": [
        "#Lista de alunos\n",
        "\n",
        "Escreva um programa em Python que recebe uma lista de nomes de alunos e suas respectivas notas. O programa deve imprimir o nome e a nota de cada aluno, utilizando a função enumerate para percorrer a lista."
      ],
      "metadata": {
        "id": "1sWSD7V57IJW"
      }
    },
    {
      "cell_type": "code",
      "source": [
        "alunos = [(\"João\", 8), (\"Maria\", 9), (\"Pedro\", 7)]\n",
        "for nome, notas in alunos:\n",
        "  print('Aluno: {} - Notas: {}'.format(nome, notas))"
      ],
      "metadata": {
        "colab": {
          "base_uri": "https://localhost:8080/"
        },
        "id": "WkGmHBiDqaOx",
        "outputId": "859edba3-264b-425b-c1e2-8067fb5fc5a5"
      },
      "execution_count": null,
      "outputs": [
        {
          "output_type": "stream",
          "name": "stdout",
          "text": [
            "Aluno: João - Notas: 8\n",
            "Aluno: Maria - Notas: 9\n",
            "Aluno: Pedro - Notas: 7\n"
          ]
        }
      ]
    },
    {
      "cell_type": "markdown",
      "source": [
        "#Ordenação de notas\n",
        "\n",
        "Escreva um programa que receba uma lista de nomes de alunos e suas respectivas notas. Em seguida, ordene a lista em ordem decrescente de notas e imprima o nome dos alunos em ordem de classificação."
      ],
      "metadata": {
        "id": "Tx_PJ6R9jM_X"
      }
    },
    {
      "cell_type": "code",
      "source": [
        "alunos = [(\"João\", 8.5), (\"Maria\", 9.2), (\"Pedro\", 7.8)]\n",
        "\n",
        "def colocao():\n",
        "    alunos_classificados = sorted(alunos, key=lambda x: x[1], reverse=True)\n",
        "    print(\"Classificação:\")\n",
        "    for posicao, (nome, _) in enumerate(alunos_classificados, start=1):\n",
        "      print(f\"{posicao}. {nome}\")\n",
        "\n",
        "colocao()\n"
      ],
      "metadata": {
        "colab": {
          "base_uri": "https://localhost:8080/"
        },
        "id": "2kc1f53vjMgN",
        "outputId": "4ebdb986-ac7a-4982-fa41-f85ead8cf379"
      },
      "execution_count": null,
      "outputs": [
        {
          "output_type": "stream",
          "name": "stdout",
          "text": [
            "Classificação:\n",
            "1. Maria\n",
            "2. João\n",
            "3. Pedro\n"
          ]
        }
      ]
    },
    {
      "cell_type": "markdown",
      "source": [
        "# Ordenar alunos por nome e media\n",
        "\n",
        "Dado um dicionário com informações sobre alunos de uma escola, como nome, idade e média de notas, crie uma função chamada \"ordenar_alunos\" que recebe esse dicionário como parâmetro e retorna uma lista de tuplas contendo o nome e a média de notas dos alunos, ordenada em ordem decrescente de média.\n",
        "\n",
        "\n",
        "alunos = {\n",
        "    \"João\": {\"idade\": 20, \"media\": 7.5},\n",
        "    \"Maria\": {\"idade\": 19, \"media\": 8.2},\n",
        "    \"Pedro\": {\"idade\": 21, \"media\": 6.8},\n",
        "    \"Ana\": {\"idade\": 18, \"media\": 9.0}\n",
        "}"
      ],
      "metadata": {
        "id": "OTO9l4cHNwU3"
      }
    },
    {
      "cell_type": "code",
      "source": [
        "alunos = {\n",
        "    \"João\": {\"idade\": 20, \"media\": 7.5},\n",
        "    \"Maria\": {\"idade\": 19, \"media\": 8.2},\n",
        "    \"Pedro\": {\"idade\": 21, \"media\": 6.8},\n",
        "    \"Ana\": {\"idade\": 18, \"media\": 9.0}\n",
        "}\n",
        "def ordenar_alunos():\n",
        "  nomes_alunos = list(alunos.keys())\n",
        "  alunos_media = []\n",
        "  for nome in nomes_alunos:\n",
        "    media = alunos[nome][\"media\"]\n",
        "    alunos_media.append((nome, media))\n",
        "  return sorted(alunos_media, key=lambda x: x[1], reverse=True)\n",
        "\n",
        "ordenar_alunos()"
      ],
      "metadata": {
        "colab": {
          "base_uri": "https://localhost:8080/"
        },
        "id": "YwMeRs_EWUHv",
        "outputId": "040c0d10-1e71-4462-83b9-752c6aa602b3"
      },
      "execution_count": null,
      "outputs": [
        {
          "output_type": "execute_result",
          "data": {
            "text/plain": [
              "[('Ana', 9.0), ('Maria', 8.2), ('João', 7.5), ('Pedro', 6.8)]"
            ]
          },
          "metadata": {},
          "execution_count": 18
        }
      ]
    },
    {
      "cell_type": "markdown",
      "source": [
        "# ordenar funcionario por salario\n",
        "Crie uma classe chamada Funcionario com os seguintes atributos:\n",
        "nome: o nome do funcionário (string)\n",
        "idade: a idade do funcionário (int)\n",
        "salario: o salário do funcionário (float)\n",
        "\n",
        "\n",
        "Crie uma lista de objetos Funcionario com alguns funcionários de sua escolha.\n",
        "Ordene a lista de funcionários pelo salário, do menor para o maior, utilizando a função sorted() e uma chave de ordenação.\n",
        "Imprima a lista de funcionários ordenada.\n",
        "\n",
        "Dica: Você pode definir uma função extrai_salario para extrair o salário de cada funcionário e usá-la como chave de ordenação no sorted(), assim como foi feito com a função extrai_saldo na aula.Esse exercício irá ajudar a praticar a ordenação customizada em Python, aplicando os conceitos aprendidos na aula."
      ],
      "metadata": {
        "id": "Rl5J3laXWATf"
      }
    },
    {
      "cell_type": "code",
      "source": [
        "class Funcionario:\n",
        "  def __init__(self, nome, idade, salario):\n",
        "    self._nome = nome\n",
        "    self._idade = idade\n",
        "    self._salario = salario\n",
        "\n",
        "\n",
        "  @property\n",
        "  def nome(self):\n",
        "    return self._nome\n",
        "\n",
        "  @property\n",
        "  def idade(self):\n",
        "    return self._idade\n",
        "\n",
        "  @property\n",
        "  def salario(self):\n",
        "    return self._salario"
      ],
      "metadata": {
        "id": "GrIt5393ZWRc"
      },
      "execution_count": null,
      "outputs": []
    },
    {
      "cell_type": "code",
      "source": [
        "from operator import attrgetter\n",
        "# Criando 5 funcionários\n",
        "funcionario1 = Funcionario(\"João\", 30, 50000)\n",
        "funcionario2 = Funcionario(\"Maria\", 25, 45000)\n",
        "funcionario3 = Funcionario(\"Pedro\", 35, 55000)\n",
        "funcionario4 = Funcionario(\"Ana\", 28, 48000)\n",
        "funcionario5 = Funcionario(\"Carlos\", 32, 52000)\n",
        "\n",
        "funcionarios = [funcionario1, funcionario2, funcionario3, funcionario4, funcionario5]\n",
        "\n",
        "for funcionario in sorted(funcionarios, key=attrgetter(\"salario\")):\n",
        "  print(f'Nome: {funcionario.nome} - Idade: {funcionario.idade} - Salário: {funcionario.salario}')"
      ],
      "metadata": {
        "colab": {
          "base_uri": "https://localhost:8080/"
        },
        "id": "sWc61NNncApG",
        "outputId": "0efa9135-3bff-4955-e81e-a2b39f9dec5b"
      },
      "execution_count": null,
      "outputs": [
        {
          "output_type": "stream",
          "name": "stdout",
          "text": [
            "Nome: Maria - Idade: 25 - Salário: 45000\n",
            "Nome: Ana - Idade: 28 - Salário: 48000\n",
            "Nome: João - Idade: 30 - Salário: 50000\n",
            "Nome: Carlos - Idade: 32 - Salário: 52000\n",
            "Nome: Pedro - Idade: 35 - Salário: 55000\n"
          ]
        }
      ]
    },
    {
      "cell_type": "markdown",
      "source": [
        "#Ordenar objeto da class Alunos pela nota\n",
        "\n",
        "Claro! Aqui está um exercício baseado na aula:Implemente uma classe chamada Aluno que tenha os atributos nome e nota. Em seguida, crie uma lista de objetos Aluno e ordene-os de acordo com a nota, do maior para o menor. Por fim, imprima a lista ordenada.Espero que esse exercício seja útil para você praticar o que aprendeu na aula! Se tiver mais alguma dúvida, é só me perguntar."
      ],
      "metadata": {
        "id": "hLG5WAWEuAxR"
      }
    },
    {
      "cell_type": "code",
      "source": [
        "class Aluno:\n",
        "  def __init__(self, nome, nota):\n",
        "    self._nome = nome\n",
        "    self._nota = nota\n",
        "\n",
        "  @property\n",
        "  def nome(self):\n",
        "    return self._nome\n",
        "\n",
        "  @property\n",
        "  def nota(self):\n",
        "    return self._nota"
      ],
      "metadata": {
        "id": "3nZ-sUQmF1wA"
      },
      "execution_count": null,
      "outputs": []
    },
    {
      "cell_type": "code",
      "source": [
        "from operator import attrgetter\n",
        "\n",
        "aluno1 = Aluno(\"João\", 8.5)\n",
        "aluno2 = Aluno(\"Maria\", 9.2)\n",
        "aluno3 = Aluno(\"Pedro\", 7.8)\n",
        "aluno4 = Aluno(\"Ana\", 6.5)\n",
        "aluno5 = Aluno(\"Carlos\", 8.0)\n",
        "\n",
        "alunos = [aluno1, aluno2, aluno3, aluno4, aluno5]\n",
        "\n",
        "for aluno in sorted(alunos, key=attrgetter(\"nota\"), reverse=True):\n",
        "    print(f\"Nome: {aluno.nome}, Nota: {aluno.nota}\")"
      ],
      "metadata": {
        "colab": {
          "base_uri": "https://localhost:8080/"
        },
        "id": "COFiQvl-Hvpn",
        "outputId": "afc8f19a-84ad-4208-a825-b1642d34f1e9"
      },
      "execution_count": null,
      "outputs": [
        {
          "output_type": "stream",
          "name": "stdout",
          "text": [
            "Nome: Maria, Nota: 9.2\n",
            "Nome: João, Nota: 8.5\n",
            "Nome: Carlos, Nota: 8.0\n",
            "Nome: Pedro, Nota: 7.8\n",
            "Nome: Ana, Nota: 6.5\n"
          ]
        }
      ]
    },
    {
      "cell_type": "markdown",
      "source": [
        "#Ordenar e criação de uma Agenda\n",
        "\n",
        "\n",
        "Claro! Aqui está um exercício um pouco mais avançado para você:Implemente uma classe chamada \"Agenda\" que represente uma agenda de contatos. Essa classe deve ter os seguintes métodos:\n",
        "Um método chamado \"adicionar_contato\" que recebe como parâmetros o nome e o número de telefone de um contato e adiciona esse contato na agenda.\n",
        "Um método chamado \"remover_contato\" que recebe como parâmetro o nome de um contato e remove esse contato da agenda, caso ele exista.\n",
        "Um método chamado \"buscar_contato\" que recebe como parâmetro o nome de um contato e retorna o número de telefone desse contato, caso ele exista na agenda.\n",
        "Um método chamado \"listar_contatos\" que retorna uma lista com todos os contatos da agenda.\n",
        "\n",
        "Lembre-se de utilizar boas práticas de programação, como encapsulamento e tratamento de erros. E não se esqueça de testar sua implementação com alguns contatos fictícios.Espero que goste do desafio! Se tiver alguma dúvida, estou aqui para ajudar."
      ],
      "metadata": {
        "id": "agulUei9MADX"
      }
    },
    {
      "cell_type": "code",
      "source": [
        "class Agenda:\n",
        "  def __init__(self):\n",
        "    self._contato = []\n",
        "\n",
        "  def adicionar_contato(self, nome, telefone):\n",
        "    contato = nome.title(), telefone\n",
        "    self._contato.append(contato)\n",
        "\n",
        "  def remover_contato(self, nome):\n",
        "    for contato in self._contatos:\n",
        "      if nome.title() == contato[0]:\n",
        "        self._contatos.remove(contato)\n",
        "        print(f\"Contato {nome.title()} removido.\")\n",
        "\n",
        "  def listar_contatos(self):\n",
        "    for nome, telefone in sorted(self._contato, key=lambda x: x[0]):\n",
        "       print(f\"Nome: {nome} - Telefone: {telefone}\")\n",
        "\n",
        "  def buscar_contato(self, nome):\n",
        "    for contato in self.contato:\n",
        "      if nome.title() == contato[0]:\n",
        "        print(f\"Nome: {contato[0]} - Telefone: {contato[1]}\")\n",
        "        return\n",
        "    else:\n",
        "        print(\"Não existe esse contato {} {}\".format(nome, telefone))\n",
        "\n",
        "  @property\n",
        "  def contato(self):\n",
        "    return self._contato"
      ],
      "metadata": {
        "id": "8qdzmiU8NB11"
      },
      "execution_count": null,
      "outputs": []
    },
    {
      "cell_type": "code",
      "source": [
        "agenda = Agenda()\n",
        "agenda.adicionar_contato(\"Claudio\", \"40028922\")\n",
        "agenda.listar_contatos()"
      ],
      "metadata": {
        "colab": {
          "base_uri": "https://localhost:8080/"
        },
        "id": "lsNXuAQWRP07",
        "outputId": "b08c0cfb-cd2e-49a8-d483-88a3ac208f50"
      },
      "execution_count": null,
      "outputs": [
        {
          "output_type": "stream",
          "name": "stdout",
          "text": [
            "Nome: Claudio - Telefone: 40028922\n"
          ]
        }
      ]
    },
    {
      "cell_type": "markdown",
      "source": [
        "# Comparador de preço e quantidade\n",
        "\n",
        "Claro! Aqui está um exercício baseado na aula:Crie uma classe chamada Produto com os atributos nome, preco e quantidade. Implemente os métodos __eq__, __lt__ e __str__ para comparar objetos com base no preço e na quantidade. Utilize o decorator @total_ordering do módulo functools para implementar automaticamente os métodos de comparação restantes.Em seguida, crie uma lista de objetos da classe Produto e ordene-a utilizando a função sorted() com base no preço e na quantidade. Por fim, imprima a lista ordenada.Esse exercício irá te ajudar a praticar a implementação de critérios de comparação mais complexos em objetos e a utilizar a função sorted() para ordená-los."
      ],
      "metadata": {
        "id": "BF2Si_F5LLUR"
      }
    },
    {
      "cell_type": "code",
      "source": [
        "from functools import total_ordering\n",
        "\n",
        "@total_ordering\n",
        "class Produto:\n",
        "  def __init__(self, nome, preco, quantidade):\n",
        "    self._nome = nome\n",
        "    self._preco = preco\n",
        "    self._quantidade = quantidade\n",
        "\n",
        "  def __str__(self):\n",
        "    return \"[Produto: {} - Preço: {} - Quantidade: {}]\".format(self._nome, self._preco, self._quantidade)\n",
        "\n",
        "  def __eq__(self, other):\n",
        "    return self._preco == other._preco and self._quantidade == other._quantidade\n",
        "\n",
        "  def __lt__(self, other):\n",
        "    if self._preco != other._preco:\n",
        "      return self._preco < other._preco\n",
        "    return self._quantidade < other._quantidade"
      ],
      "metadata": {
        "id": "cwuMG1LcLPem"
      },
      "execution_count": null,
      "outputs": []
    },
    {
      "cell_type": "code",
      "source": [
        "produto1 = Produto(nome=\"Camiseta\", preco=29.99, quantidade=10)\n",
        "produto2 = Produto(nome=\"Calça Jeans\", preco=59.99, quantidade=5)\n",
        "produto3 = Produto(nome=\"Tênis\", preco=79.99, quantidade=8)\n",
        "\n",
        "produtos = [produto1, produto2, produto3]"
      ],
      "metadata": {
        "id": "L4PGBrayZE5s"
      },
      "execution_count": null,
      "outputs": []
    },
    {
      "cell_type": "code",
      "source": [
        "for p in sorted(produtos):\n",
        "  print(p)"
      ],
      "metadata": {
        "colab": {
          "base_uri": "https://localhost:8080/"
        },
        "id": "w0oD_rm-ZT2z",
        "outputId": "a28295fb-d385-4fbf-c8ca-c3253e002680"
      },
      "execution_count": null,
      "outputs": [
        {
          "output_type": "stream",
          "name": "stdout",
          "text": [
            "[Produto: Camiseta - Preço: 29.99 - Quantidade: 10]\n",
            "[Produto: Calça Jeans - Preço: 59.99 - Quantidade: 5]\n",
            "[Produto: Tênis - Preço: 79.99 - Quantidade: 8]\n"
          ]
        }
      ]
    },
    {
      "cell_type": "code",
      "source": [
        "produto1 < produto2"
      ],
      "metadata": {
        "colab": {
          "base_uri": "https://localhost:8080/"
        },
        "id": "bUEAEmstaNQA",
        "outputId": "432ae96b-46b3-43c0-99f4-9cc08687790e"
      },
      "execution_count": null,
      "outputs": [
        {
          "output_type": "execute_result",
          "data": {
            "text/plain": [
              "True"
            ]
          },
          "metadata": {},
          "execution_count": 12
        }
      ]
    },
    {
      "cell_type": "code",
      "source": [
        "produto1 <= produto2"
      ],
      "metadata": {
        "colab": {
          "base_uri": "https://localhost:8080/"
        },
        "id": "m-acylvaaVRY",
        "outputId": "23f54c34-9f73-463e-dfbf-570749272cec"
      },
      "execution_count": null,
      "outputs": [
        {
          "output_type": "execute_result",
          "data": {
            "text/plain": [
              "True"
            ]
          },
          "metadata": {},
          "execution_count": 13
        }
      ]
    },
    {
      "cell_type": "markdown",
      "source": [
        "$Implementando um m\n",
        "\n",
        "Claro! Um exercício mais avançado que você pode tentar é implementar um método na classe ContaSalario que permita realizar transferências entre contas. Você pode criar um método chamado transferir() que recebe como parâmetros a conta de destino e o valor a ser transferido. Dentro desse método, você pode verificar se a conta de origem possui saldo suficiente para a transferência e, caso positivo, realizar a transferência subtraindo o valor da conta de origem e adicionando o valor na conta de destino. Lembre-se de tratar possíveis erros, como contas inválidas ou saldo insuficiente. Dessa forma, você estará praticando a implementação de lógica mais complexa em um contexto de contas bancárias. Espero que goste do desafio!"
      ],
      "metadata": {
        "id": "TJALq8dudFmh"
      }
    },
    {
      "cell_type": "code",
      "source": [
        "class ContaSalario:\n",
        "\n",
        "  def __init__(self, codigo):\n",
        "    self._codigo = codigo\n",
        "    self._saldo = 0\n",
        "\n",
        "  def __eq__(self, outro):\n",
        "    if type(outro) != ContaSalario:\n",
        "      return False\n",
        "\n",
        "    return self._codigo == outro._codigo and self._saldo == outro._saldo\n",
        "\n",
        "  def __lt__(self, outro):\n",
        "    if self._saldo != outro._saldo:\n",
        "      return self._saldo < outro._saldo\n",
        "\n",
        "\n"
      ],
      "metadata": {
        "id": "BMqD-Wv3dGSC"
      },
      "execution_count": null,
      "outputs": []
    }
  ]
}