{
  "nbformat": 4,
  "nbformat_minor": 0,
  "metadata": {
    "colab": {
      "provenance": [],
      "collapsed_sections": [
        "YGeGDeJY7rxo"
      ]
    },
    "kernelspec": {
      "name": "python3",
      "display_name": "Python 3"
    },
    "language_info": {
      "name": "python"
    }
  },
  "cells": [
    {
      "cell_type": "markdown",
      "source": [
        "#União de Conjuntos - Números de 1 a 10 e de 5 a 15\n",
        "\n",
        "Crie duas listas, uma contendo os números de 1 a 10 e outra contendo os números de 5 a 15. Em seguida, transforme essas listas em conjuntos e realize a união entre eles. Por fim, exiba o resultado da união dos conjuntos."
      ],
      "metadata": {
        "id": "YGeGDeJY7rxo"
      }
    },
    {
      "cell_type": "code",
      "execution_count": null,
      "metadata": {
        "id": "-Z08IHLX7dxP"
      },
      "outputs": [],
      "source": [
        "numeros110 = [1, 2, 3, 4, 5, 6, 7, 8, 9, 10]\n",
        "numeros515 = [5, 6, 7, 8, 9, 10, 11, 12, 13, 14, 15]"
      ]
    },
    {
      "cell_type": "code",
      "source": [
        "uniao = numeros110.copy()\n",
        "uniao.extend(numeros515)\n",
        "set(uniao)\n"
      ],
      "metadata": {
        "colab": {
          "base_uri": "https://localhost:8080/"
        },
        "id": "2exeD4Rq8xU9",
        "outputId": "c50d58cd-3cbc-4672-8ed5-a66a4380f7b9"
      },
      "execution_count": null,
      "outputs": [
        {
          "output_type": "execute_result",
          "data": {
            "text/plain": [
              "{1, 2, 3, 4, 5, 6, 7, 8, 9, 10, 11, 12, 13, 14, 15}"
            ]
          },
          "metadata": {},
          "execution_count": 3
        }
      ]
    },
    {
      "cell_type": "markdown",
      "source": [
        "as duas opções são validas"
      ],
      "metadata": {
        "id": "aSJKTVLwA-NA"
      }
    },
    {
      "cell_type": "code",
      "source": [
        "numeros110 = {1, 2, 3, 4, 5, 6, 7, 8, 9, 10}\n",
        "numeros515 = {5, 6, 7, 8, 9, 10, 11, 12, 13, 14, 15}\n",
        "\n",
        "uniao = numeros110 | numeros515\n",
        "print(uniao)"
      ],
      "metadata": {
        "id": "6euyM49XA8_Q"
      },
      "execution_count": null,
      "outputs": []
    },
    {
      "cell_type": "markdown",
      "source": [
        "# Encontre os números pares únicos em uma lista\n",
        "\n",
        "Escreva um programa em Python que recebe uma lista de números inteiros como entrada e retorna um conjunto contendo apenas os números pares da lista, sem repetições.\n",
        "\n",
        "Você pode começar criando uma lista de números inteiros e, em seguida, utilizar os conceitos de conjuntos vistos na aula para filtrar os números pares e remover as repetições."
      ],
      "metadata": {
        "id": "m61r2XVnDcsE"
      }
    },
    {
      "cell_type": "code",
      "source": [
        "numeros = [1, 5, 10, 15, 20, 25, 30]\n",
        "\n",
        "par = [numero for numero in numeros if numero % 2 == 0]\n",
        "impar = [numero for numero in numeros if not numero % 2 == 0]\n",
        "print(impar)\n",
        "print(par)"
      ],
      "metadata": {
        "colab": {
          "base_uri": "https://localhost:8080/"
        },
        "id": "9peSxIcWDda4",
        "outputId": "48698752-7f43-4a33-e326-706788de3d07"
      },
      "execution_count": null,
      "outputs": [
        {
          "output_type": "stream",
          "name": "stdout",
          "text": [
            "[1, 5, 15, 25]\n",
            "[10, 20, 30]\n"
          ]
        }
      ]
    },
    {
      "cell_type": "markdown",
      "source": [
        "# Contador de Letras em uma Frase\n",
        "\n",
        "Escreva um programa em Python que conte a quantidade de vezes que cada letra aparece em uma frase. Utilize um dicionário para armazenar as letras como chaves e as contagens como valores. Por exemplo, para a frase \"Alura é demais\", o programa deve retornar o seguinte dicionário: {'A': 1, 'l': 1, 'u': 1, 'r': 1, 'a': 1, ' ': 2, 'é': 1, 'd': 1, 'e': 1, 'm': 1, 'i': 1, 's': 1}.\n",
        "\n"
      ],
      "metadata": {
        "id": "qnpLBbqpkPap"
      }
    },
    {
      "cell_type": "code",
      "source": [
        "palavras = \"Alura é demais\"\n",
        "dicionario = {}\n",
        "\n",
        "def valores_contagem():\n",
        "  for palavra in palavras.split():\n",
        "    for letra in palavra.lower():\n",
        "      if letra in dicionario:\n",
        "            dicionario[letra] += 1\n",
        "      else:\n",
        "            dicionario[letra] = 1\n",
        "  return dicionario\n",
        "valores_contagem()"
      ],
      "metadata": {
        "colab": {
          "base_uri": "https://localhost:8080/"
        },
        "id": "A8ICz7BXkPJd",
        "outputId": "41bb45f4-77a2-4694-9274-99a67c6523e7"
      },
      "execution_count": null,
      "outputs": [
        {
          "output_type": "execute_result",
          "data": {
            "text/plain": [
              "{'a': 3,\n",
              " 'l': 1,\n",
              " 'u': 1,\n",
              " 'r': 1,\n",
              " 'é': 1,\n",
              " 'd': 1,\n",
              " 'e': 1,\n",
              " 'm': 1,\n",
              " 'i': 1,\n",
              " 's': 1}"
            ]
          },
          "metadata": {},
          "execution_count": 1
        }
      ]
    },
    {
      "cell_type": "code",
      "source": [
        "palavras = \"Alura é demais\"\n",
        "dicionario = {}\n",
        "\n",
        "def valores_contagem():\n",
        "  for palavra in palavras.split():\n",
        "      if palavra.lower() in dicionario:\n",
        "            dicionario[palavra] += 1\n",
        "      else:\n",
        "            dicionario[palavra] = 1\n",
        "  return dicionario\n",
        "valores_contagem()"
      ],
      "metadata": {
        "colab": {
          "base_uri": "https://localhost:8080/"
        },
        "id": "_s7GXeNwzItO",
        "outputId": "52db8d02-92b3-48a5-c6fa-497f8e93101c"
      },
      "execution_count": null,
      "outputs": [
        {
          "output_type": "execute_result",
          "data": {
            "text/plain": [
              "{'Alura': 1, 'é': 1, 'demais': 1}"
            ]
          },
          "metadata": {},
          "execution_count": 4
        }
      ]
    },
    {
      "cell_type": "code",
      "source": [
        "palavras = \"Alura é demais\"\n",
        "dicionario = {}\n",
        "\n",
        "def valores_contagem():\n",
        "  for palavra in palavras.split():\n",
        "    for letra in set(palavra.lower()):\n",
        "      if letra in dicionario:\n",
        "            dicionario[letra] += 1\n",
        "      else:\n",
        "            dicionario[letra] = 1\n",
        "  return dicionario\n",
        "\n",
        "valores_contagem()"
      ],
      "metadata": {
        "colab": {
          "base_uri": "https://localhost:8080/"
        },
        "id": "Wg4usin0DdEg",
        "outputId": "ffb13d5d-3815-4e02-9e68-28dd6bbb0a27"
      },
      "execution_count": null,
      "outputs": [
        {
          "output_type": "execute_result",
          "data": {
            "text/plain": [
              "{'r': 1,\n",
              " 'l': 1,\n",
              " 'u': 1,\n",
              " 'a': 2,\n",
              " 'é': 1,\n",
              " 'e': 1,\n",
              " 'd': 1,\n",
              " 'm': 1,\n",
              " 'i': 1,\n",
              " 's': 1}"
            ]
          },
          "metadata": {},
          "execution_count": 14
        }
      ]
    },
    {
      "cell_type": "markdown",
      "source": [
        "# Controle de Estoque\n",
        "\n",
        "Crie um dicionário chamado \"estoque\" com os seguintes itens e suas respectivas quantidades: \"banana\" (10), \"maçã\" (5), \"laranja\" (8), \"abacaxi\" (3).\n",
        "\n",
        "Em seguida, faça as seguintes operações:\n",
        "\n",
        "* Adicione mais 5 unidades de \"banana\" ao estoque.\n",
        "* Substitua a quantidade de \"maçã\" por 7 unidades.\n",
        "* Remova o item \"abacaxi\" do estoque.\n",
        "* Verifique se \"laranja\" está presente no estoque.\n",
        "* Itere sobre as chaves do estoque e imprima cada uma delas.\n",
        "* Utilize o método values() para obter um iterável contendo as quantidades do estoque e imprima cada uma delas.\n",
        "* Utilize o método items() para obter um iterável contendo as chaves e valores do estoque e imprima cada um deles.\n",
        "* Utilize um list comprehension para criar uma lista de strings contendo as chaves do estoque concatenadas com a palavra \" - estoque: \" e suas respectivas quantidades."
      ],
      "metadata": {
        "id": "gSEsCGKnsN19"
      }
    },
    {
      "cell_type": "code",
      "source": [
        "estoque = {\n",
        "    \"banana\": 10,\n",
        "    \"maçã\": 5,\n",
        "    \"laranja\": 8,\n",
        "    \"abacaxi\": 3\n",
        "}"
      ],
      "metadata": {
        "id": "dj_AYtonOh-B"
      },
      "execution_count": null,
      "outputs": []
    },
    {
      "cell_type": "code",
      "source": [
        "def adicionar_produto_estoque(produto, valor):\n",
        "    if produto in estoque:\n",
        "      estoque[produto] += valor\n",
        "      print(\"Foi adicionado {} em {}\".format(valor, produto))\n",
        "\n",
        "def substituir_estoque(produto, valor):\n",
        "  if produto in estoque:\n",
        "      estoque[produto] = valor\n",
        "      return print(\"Foi substituido {} em {}\".format(valor, produto))\n",
        "\n",
        "def verifica_quantidade(produto):\n",
        "    if produto in estoque:\n",
        "      print(\"Produto: {} - Quantidade: {}\".format(produto, estoque[produto]))\n",
        "      return\n",
        "\n",
        "def total_estoque():\n",
        "  print(sum(estoque.values()))\n",
        "\n",
        "def quantidade_verificada_total():\n",
        "  for produto, quantidade in estoque.items():\n",
        "    print(f\"Produto: {produto} - Quantidade: {quantidade}\")\n",
        "\n",
        "def procurar_produto(produto):\n",
        "    if produto in estoque:\n",
        "       print(f\"Produto: {produto} encontrado\")\n",
        "    else:\n",
        "       print(\"não encontrado {}\".format(produto))\n",
        "\n",
        "def remove_produto(produto):\n",
        "  if produto in estoque:\n",
        "    del estoque[produto]\n",
        "    print(\"Produto: {} deletado\".format(produto))\n",
        "  else:\n",
        "    print(\"não encontrado {}\".format(produto))"
      ],
      "metadata": {
        "id": "R-ogpdsZ4rcE"
      },
      "execution_count": null,
      "outputs": []
    },
    {
      "cell_type": "code",
      "source": [
        "print(estoque)"
      ],
      "metadata": {
        "colab": {
          "base_uri": "https://localhost:8080/"
        },
        "id": "ldL7j-1q5Pna",
        "outputId": "32307d41-bc40-4139-c1b8-3f34b8281f55"
      },
      "execution_count": null,
      "outputs": [
        {
          "output_type": "stream",
          "name": "stdout",
          "text": [
            "{'banana': 10, 'maçã': 5, 'laranja': 8, 'abacaxi': 3}\n"
          ]
        }
      ]
    },
    {
      "cell_type": "markdown",
      "source": [
        "# Contador de Palavras usando defaultdict\n",
        "\n",
        "Um exercício interessante seria criar uma função que recebe um texto como parâmetro e retorna um dicionário com a contagem de aparições de cada palavra no texto. Você pode pedir para o usuário inserir um texto ou utilizar um texto fixo para testar a função. Lembre-se de utilizar o defaultdict para facilitar a contagem das palavras. Experimente criar essa função e testar com diferentes textos"
      ],
      "metadata": {
        "id": "x7F3F_IQgQN5"
      }
    },
    {
      "cell_type": "code",
      "source": [
        "from posixpath import split\n",
        "from collections import defaultdict\n",
        "\n",
        "meu_texto = \"Python é uma linguagem de programação muito utilizada em análise de dados e machine learning. A simplicidade e legibilidade do Python a tornam uma ótima escolha para cientistas de dados e desenvolvedores.\"\n",
        "meu_texto = meu_texto.lower()\n",
        "\n",
        "aparicoes = defaultdict(int)\n",
        "\n",
        "for palavras in meu_texto.split():\n",
        "  ate_agora = aparicoes[palavras]\n",
        "  aparicoes[palavras] = ate_agora + 1\n",
        "\n",
        "aparicoes\n"
      ],
      "metadata": {
        "colab": {
          "base_uri": "https://localhost:8080/"
        },
        "id": "IxBvW1N1gRf2",
        "outputId": "7a862f1d-b9b2-432a-8705-add852813354"
      },
      "execution_count": null,
      "outputs": [
        {
          "output_type": "execute_result",
          "data": {
            "text/plain": [
              "defaultdict(int,\n",
              "            {'p': 5,\n",
              "             'y': 2,\n",
              "             't': 8,\n",
              "             'h': 4,\n",
              "             'o': 12,\n",
              "             'n': 10,\n",
              "             ' ': 31,\n",
              "             'é': 1,\n",
              "             'u': 5,\n",
              "             'm': 10,\n",
              "             'a': 22,\n",
              "             'l': 9,\n",
              "             'i': 16,\n",
              "             'g': 5,\n",
              "             'e': 20,\n",
              "             'd': 15,\n",
              "             'r': 6,\n",
              "             'ç': 1,\n",
              "             'ã': 1,\n",
              "             'z': 1,\n",
              "             'á': 1,\n",
              "             's': 9,\n",
              "             'c': 4,\n",
              "             '.': 2,\n",
              "             'b': 1,\n",
              "             'ó': 1,\n",
              "             'v': 2})"
            ]
          },
          "metadata": {},
          "execution_count": 3
        }
      ]
    },
    {
      "cell_type": "markdown",
      "source": [
        "# Contador de Letras utilizando o Counter"
      ],
      "metadata": {
        "id": "gWkltKup2f76"
      }
    },
    {
      "cell_type": "code",
      "source": [
        "from collections import Counter\n",
        "\n",
        "meu_texto = \"O rato roeu a roupa do rei de Roma\"\n",
        "meu_texto = meu_texto.lower()\n",
        "\n",
        "aparicoes = Counter(meu_texto.split())\n",
        "aparicoes"
      ],
      "metadata": {
        "colab": {
          "base_uri": "https://localhost:8080/"
        },
        "id": "ZzuCEEV9y0GU",
        "outputId": "1b407d5b-3c98-40f0-8a45-9baa0f6e1201"
      },
      "execution_count": null,
      "outputs": [
        {
          "output_type": "execute_result",
          "data": {
            "text/plain": [
              "Counter({'o': 1,\n",
              "         'rato': 1,\n",
              "         'roeu': 1,\n",
              "         'a': 1,\n",
              "         'roupa': 1,\n",
              "         'do': 1,\n",
              "         'rei': 1,\n",
              "         'de': 1,\n",
              "         'roma': 1})"
            ]
          },
          "metadata": {},
          "execution_count": 2
        }
      ]
    },
    {
      "cell_type": "markdown",
      "source": [
        "# Contador de Palavras Excluindo Palavras Comuns\n",
        "\n",
        "Que tal tentar implementar um contador de palavras que desconsidere as palavras comuns, como artigos e preposições? Isso pode ser feito utilizando o Counter em conjunto com uma lista de palavras a serem desconsideradas. Tente implementar essa lógica e veja como fica!"
      ],
      "metadata": {
        "id": "R7r-iC1XQGIC"
      }
    },
    {
      "cell_type": "code",
      "source": [
        "from collections import Counter\n",
        "\n",
        "\n",
        "palavras_comuns = [\"o\", \"a\", \"de\", \"para\", \"com\", \"em\", \"um\", \"uma\", \"se\", \"por\", \"no\", \"na\", \"nos\", \"nas\", \"ao\", \"à\", \"às\", \"do\", \"da\", \"dos\", \"das\", \"que\", \"como\", \"quando\", \"onde\", \"porque\", \"quem\", \"qual\", \"quais\", \"entre\", \"sobre\", \"sob\", \"através\", \"até\", \"após\", \"ante\", \"perante\", \"sem\", \"sob\", \"sobre\", \"trás\"]\n",
        "\n",
        "meu_texto = \"O cachorro é um animal de estimação muito comum. Os cachorros são conhecidos por sua lealdade e companheirismo. Muitas pessoas têm um cachorro como animal de estimação. O cachorro é considerado o melhor amigo do homem.\"\n",
        "meu_texto = meu_texto.lower()\n",
        "\n",
        "aparicoes = Counter(meu_texto.split())\n",
        "\n",
        "for comum in palavras_comuns:\n",
        "  if comum in aparicoes:\n",
        "    del aparicoes[comum]\n",
        "\n",
        "print(aparicoes)"
      ],
      "metadata": {
        "colab": {
          "base_uri": "https://localhost:8080/"
        },
        "id": "zNRln4qsQzWd",
        "outputId": "a26bb0cf-c7e4-42fd-d1df-389034bbdd2a"
      },
      "execution_count": null,
      "outputs": [
        {
          "output_type": "stream",
          "name": "stdout",
          "text": [
            "Counter({'cachorro': 3, 'é': 2, 'animal': 2, 'estimação': 1, 'muito': 1, 'comum.': 1, 'os': 1, 'cachorros': 1, 'são': 1, 'conhecidos': 1, 'sua': 1, 'lealdade': 1, 'e': 1, 'companheirismo.': 1, 'muitas': 1, 'pessoas': 1, 'têm': 1, 'estimação.': 1, 'considerado': 1, 'melhor': 1, 'amigo': 1, 'homem.': 1})\n"
          ]
        }
      ]
    },
    {
      "cell_type": "markdown",
      "source": [
        "# Análise de Frequência de Letras em um Texto\n",
        "\n",
        " Um exercício interessante seria criar uma função que recebe um texto como parâmetro e retorna as 10 letras mais frequentes, juntamente com a porcentagem de ocorrência de cada uma delas. Você pode utilizar o método Counter para contar a frequência de cada letra no texto e, em seguida, calcular a porcentagem de ocorrência."
      ],
      "metadata": {
        "id": "1Lv904EsaO9e"
      }
    },
    {
      "cell_type": "code",
      "source": [
        "meu_texto = \"Python é uma linguagem de programação de alto nível, interpretada, de script, imperativa, orientada a objetos, funcional, de tipagem dinâmica e forte. Foi lançada por Guido van Rossum em 1991.\""
      ],
      "metadata": {
        "id": "G5T3EomwaPbs"
      },
      "execution_count": null,
      "outputs": []
    },
    {
      "cell_type": "code",
      "source": [
        "from collections import Counter\n",
        "\n",
        "def analisa_frequencia_de_letras(texto):\n",
        "  aparicoes = Counter(texto.lower())\n",
        "  total_caracteres = sum(aparicoes.values())\n",
        "\n",
        "  proporcoes = [(letra, frequencia / total_caracteres) for letra, frequencia in aparicoes.items()]\n",
        "  proporcoes = Counter(dict(proporcoes))\n",
        "  letras_comum = proporcoes.most_common(10)\n",
        "  for caractere, proporcao in letras_comum:\n",
        "    print(\"{} => {:.2f}%\".format(caractere, proporcao * 100))\n",
        "\n",
        "analisa_frequencia_de_letras(meu_texto)"
      ],
      "metadata": {
        "colab": {
          "base_uri": "https://localhost:8080/"
        },
        "id": "wCtkwNsdaqHj",
        "outputId": "22457ccc-1c9a-4c9a-8be9-566488bcc55d"
      },
      "execution_count": null,
      "outputs": [
        {
          "output_type": "stream",
          "name": "stdout",
          "text": [
            "  => 15.10%\n",
            "a => 9.90%\n",
            "e => 7.81%\n",
            "o => 6.77%\n",
            "i => 6.25%\n",
            "t => 5.21%\n",
            "n => 5.21%\n",
            "r => 5.21%\n",
            "d => 4.69%\n",
            "m => 4.17%\n"
          ]
        }
      ]
    },
    {
      "cell_type": "markdown",
      "source": [
        "Contagem de Frequência de Palavras em um Texto"
      ],
      "metadata": {
        "id": "VkZwddXNfoEf"
      }
    },
    {
      "cell_type": "code",
      "source": [
        "texto1 = \"\"\"A área de Análise e Desenvolvimento de Sistemas é centrada na criação e implementação de soluções de software para atender às necessidades dos usuários e das organizações. Os profissionais dessa área estão constantemente envolvidos na análise de requisitos, no design de sistemas, na codificação de programas e na realização de testes para garantir a qualidade do software produzido.\n",
        "\n",
        "Os analistas e desenvolvedores de sistemas trabalham com uma variedade de linguagens de programação, frameworks e tecnologias, adaptando-se às demandas do projeto e às preferências da equipe. Eles colaboram de perto com outros profissionais de TI e com as partes interessadas do negócio para garantir que as soluções desenvolvidas atendam aos objetivos e requisitos definidos.\n",
        "\n",
        "Essa área oferece uma ampla gama de oportunidades de carreira, desde desenvolvedores de software que se concentram na codificação e na implementação técnica até analistas de sistemas que desempenham um papel mais estratégico na identificação de necessidades e na definição de requisitos de software. \"\"\""
      ],
      "metadata": {
        "id": "l2iuEpWZiE32"
      },
      "execution_count": null,
      "outputs": []
    },
    {
      "cell_type": "code",
      "source": [
        "texto2 = \"\"\"A Gestão da Tecnologia da Informação é uma disciplina que se concentra na liderança e na administração dos recursos de TI de uma organização. Os profissionais de Gestão de TI são responsáveis por definir a estratégia de tecnologia da informação, gerenciar equipes de TI, supervisionar projetos de tecnologia e garantir que os recursos de TI sejam utilizados de forma eficiente para apoiar os objetivos de negócio da organização.\n",
        "\n",
        "Eles lidam com uma variedade de áreas, incluindo infraestrutura de TI, segurança da informação, governança de TI, gestão de serviços de TI e gestão de projetos de TI. Além disso, eles estão frequentemente envolvidos na avaliação e na implementação de novas tecnologias para melhorar a eficiência operacional e a competitividade da empresa.\n",
        "\n",
        "Os gestores de TI precisam ter habilidades técnicas sólidas, bem como habilidades de liderança e comunicação, para garantir o sucesso dos projetos de TI e alinhar as iniciativas de tecnologia com as metas estratégicas da organização. Esta área oferece oportunidades para indivíduos que estão interessados tanto na tecnologia quanto na gestão de negócios.\"\"\""
      ],
      "metadata": {
        "id": "Hp8YdBxti85a"
      },
      "execution_count": null,
      "outputs": []
    },
    {
      "cell_type": "code",
      "source": [
        "from collections import Counter\n",
        "from posixpath import split\n",
        "\n",
        "def analisa_frequencia_de_palavras(texto):\n",
        "  texto = texto.lower()\n",
        "  aparicoes = Counter(texto.split())\n",
        "  total_de_palavras = sum(aparicoes.values())\n",
        "\n",
        "  proporcoes = [(palavra, frequencia / total_de_palavras) for palavra, frequencia in aparicoes.items()]\n",
        "  proporcoes = Counter(dict(proporcoes))\n",
        "\n",
        "  palavras_comuns = proporcoes.most_common(10)\n",
        "\n",
        "  for palavras, aparicao in palavras_comuns:\n",
        "     print(\"{} => {:.2f}%\".format(palavras, aparicao * 100))"
      ],
      "metadata": {
        "id": "uIomA9XYf1DT"
      },
      "execution_count": null,
      "outputs": []
    },
    {
      "cell_type": "code",
      "source": [
        "analisa_frequencia_de_palavras(texto1)"
      ],
      "metadata": {
        "colab": {
          "base_uri": "https://localhost:8080/"
        },
        "id": "q4fRf38fiBLG",
        "outputId": "f845079d-56f4-47df-84c1-0b712179cd6e"
      },
      "execution_count": null,
      "outputs": [
        {
          "output_type": "stream",
          "name": "stdout",
          "text": [
            "de => 12.74%\n",
            "e => 7.01%\n",
            "na => 5.10%\n",
            "área => 1.91%\n",
            "sistemas => 1.91%\n",
            "software => 1.91%\n",
            "para => 1.91%\n",
            "às => 1.91%\n",
            "do => 1.91%\n",
            "com => 1.91%\n"
          ]
        }
      ]
    }
  ]
}
